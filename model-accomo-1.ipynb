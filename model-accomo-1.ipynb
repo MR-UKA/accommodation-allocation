{
 "cells": [
  {
   "cell_type": "markdown",
   "id": "e9447d2a",
   "metadata": {},
   "source": [
    "***DATA visualization uon Suporting Vector Machine Algorithm***"
   ]
  },
  {
   "cell_type": "code",
   "execution_count": 1,
   "id": "61e88e08",
   "metadata": {},
   "outputs": [
    {
     "data": {
      "text/plain": [
       "'\\'\\'test=pd.read_csv(\\'test.csv\\')\\ntest_y=test[\\'Loan_Status\\']\\ntest_x=test.drop([\"Loan_Status\"],axis=1)\\n\\n# Create Linear SVM object\\nsupport = svm.LinearSVC(random_state=20)\\n\\n# Train the model using the training sets and check score on test dataset\\n#support.fit(train_x, train_y)\\n#predicted= support.predict(test_x)\\n#score=accuracy_score(test_y,predicted)\\n#print(\"Your Model Accuracy is\", score)\\n#train.to_csv( \"pred.csv\")'"
      ]
     },
     "execution_count": 1,
     "metadata": {},
     "output_type": "execute_result"
    }
   ],
   "source": [
    "#Import Library\n",
    "from sklearn import svm\n",
    "from sklearn import preprocessing\n",
    "import pandas as pd\n",
    "from sklearn.metrics import accuracy_score\n",
    "import warnings\n",
    "warnings.filterwarnings('ignore')\n",
    "\n",
    "#Load Train and Test datasets\n",
    "#Identify feature and response variable(s) and values must be numeric and numpy arrays\n",
    "train=pd.read_csv('Personality Survey.csv')\n",
    "#train_y=train['Loan_Status']\n",
    "#train_x=train.drop([\"Loan_Status\"],axis=1)\n",
    "\n",
    "'''''test=pd.read_csv('test.csv')\n",
    "test_y=test['Loan_Status']\n",
    "test_x=test.drop([\"Loan_Status\"],axis=1)\n",
    "\n",
    "# Create Linear SVM object\n",
    "support = svm.LinearSVC(random_state=20)\n",
    "\n",
    "# Train the model using the training sets and check score on test dataset\n",
    "#support.fit(train_x, train_y)\n",
    "#predicted= support.predict(test_x)\n",
    "#score=accuracy_score(test_y,predicted)\n",
    "#print(\"Your Model Accuracy is\", score)\n",
    "#train.to_csv( \"pred.csv\")'''"
   ]
  },
  {
   "cell_type": "code",
   "execution_count": 2,
   "id": "9cf36048",
   "metadata": {},
   "outputs": [],
   "source": [
    "import numpy as np\n",
    "import pandas as pd\n",
    "from sklearn.model_selection import train_test_split\n",
    "from sklearn.tree import DecisionTreeClassifier\n",
    "from sklearn.metrics import accuracy_score\n",
    "from sklearn import svm\n"
   ]
  },
  {
   "cell_type": "code",
   "execution_count": 3,
   "id": "fa96c03c",
   "metadata": {},
   "outputs": [],
   "source": [
    "data=pd.read_csv('Personality Survey.csv')\n"
   ]
  },
  {
   "cell_type": "code",
   "execution_count": 4,
   "id": "236f0256",
   "metadata": {},
   "outputs": [
    {
     "data": {
      "text/html": [
       "<div>\n",
       "<style scoped>\n",
       "    .dataframe tbody tr th:only-of-type {\n",
       "        vertical-align: middle;\n",
       "    }\n",
       "\n",
       "    .dataframe tbody tr th {\n",
       "        vertical-align: top;\n",
       "    }\n",
       "\n",
       "    .dataframe thead th {\n",
       "        text-align: right;\n",
       "    }\n",
       "</style>\n",
       "<table border=\"1\" class=\"dataframe\">\n",
       "  <thead>\n",
       "    <tr style=\"text-align: right;\">\n",
       "      <th></th>\n",
       "      <th>Timestamp</th>\n",
       "      <th>Email Address</th>\n",
       "      <th>Do you wish to participate</th>\n",
       "      <th>Are you social</th>\n",
       "      <th>Talkative</th>\n",
       "      <th>Forgetful</th>\n",
       "      <th>organized</th>\n",
       "      <th>Quick to anger</th>\n",
       "      <th>Heroic</th>\n",
       "      <th>Takes Things Personal</th>\n",
       "      <th>...</th>\n",
       "      <th>quick in action</th>\n",
       "      <th>quiet and complacement</th>\n",
       "      <th>likes activities</th>\n",
       "      <th>loves people</th>\n",
       "      <th>innovative</th>\n",
       "      <th>truoble concretrating</th>\n",
       "      <th>delight in change</th>\n",
       "      <th>likes discussions</th>\n",
       "      <th>Enter User Name of your choice</th>\n",
       "      <th>Personality</th>\n",
       "    </tr>\n",
       "  </thead>\n",
       "  <tbody>\n",
       "    <tr>\n",
       "      <th>0</th>\n",
       "      <td>4/26/2024 5:52:04</td>\n",
       "      <td>NaN</td>\n",
       "      <td>Yes</td>\n",
       "      <td>sometimes</td>\n",
       "      <td>sometimes</td>\n",
       "      <td>sometimes</td>\n",
       "      <td>Yes</td>\n",
       "      <td>sometimes</td>\n",
       "      <td>sometimes</td>\n",
       "      <td>sometimes</td>\n",
       "      <td>...</td>\n",
       "      <td>No</td>\n",
       "      <td>sometimes</td>\n",
       "      <td>Yes</td>\n",
       "      <td>sometimes</td>\n",
       "      <td>Yes</td>\n",
       "      <td>sometimes</td>\n",
       "      <td>No</td>\n",
       "      <td>sometimes</td>\n",
       "      <td>NaN</td>\n",
       "      <td>Sanguine</td>\n",
       "    </tr>\n",
       "    <tr>\n",
       "      <th>1</th>\n",
       "      <td>4/26/2024 9:06:57</td>\n",
       "      <td>NaN</td>\n",
       "      <td>Yes</td>\n",
       "      <td>sometimes</td>\n",
       "      <td>Yes</td>\n",
       "      <td>Yes</td>\n",
       "      <td>Yes</td>\n",
       "      <td>No</td>\n",
       "      <td>No</td>\n",
       "      <td>sometimes</td>\n",
       "      <td>...</td>\n",
       "      <td>No</td>\n",
       "      <td>Yes</td>\n",
       "      <td>sometimes</td>\n",
       "      <td>Yes</td>\n",
       "      <td>sometimes</td>\n",
       "      <td>No</td>\n",
       "      <td>sometimes</td>\n",
       "      <td>sometimes</td>\n",
       "      <td>NaN</td>\n",
       "      <td>Sanguine</td>\n",
       "    </tr>\n",
       "    <tr>\n",
       "      <th>2</th>\n",
       "      <td>4/26/2024 9:48:57</td>\n",
       "      <td>NaN</td>\n",
       "      <td>Yes</td>\n",
       "      <td>Yes</td>\n",
       "      <td>Yes</td>\n",
       "      <td>sometimes</td>\n",
       "      <td>sometimes</td>\n",
       "      <td>Yes</td>\n",
       "      <td>Yes</td>\n",
       "      <td>No</td>\n",
       "      <td>...</td>\n",
       "      <td>Yes</td>\n",
       "      <td>sometimes</td>\n",
       "      <td>Yes</td>\n",
       "      <td>No</td>\n",
       "      <td>Yes</td>\n",
       "      <td>No</td>\n",
       "      <td>No</td>\n",
       "      <td>No</td>\n",
       "      <td>crage</td>\n",
       "      <td>Choleric</td>\n",
       "    </tr>\n",
       "    <tr>\n",
       "      <th>3</th>\n",
       "      <td>4/28/2024 20:16:12</td>\n",
       "      <td>NaN</td>\n",
       "      <td>Yes</td>\n",
       "      <td>sometimes</td>\n",
       "      <td>sometimes</td>\n",
       "      <td>sometimes</td>\n",
       "      <td>Yes</td>\n",
       "      <td>sometimes</td>\n",
       "      <td>sometimes</td>\n",
       "      <td>Yes</td>\n",
       "      <td>...</td>\n",
       "      <td>sometimes</td>\n",
       "      <td>sometimes</td>\n",
       "      <td>sometimes</td>\n",
       "      <td>sometimes</td>\n",
       "      <td>Yes</td>\n",
       "      <td>No</td>\n",
       "      <td>Yes</td>\n",
       "      <td>Yes</td>\n",
       "      <td>Tar</td>\n",
       "      <td>Sanguine</td>\n",
       "    </tr>\n",
       "    <tr>\n",
       "      <th>4</th>\n",
       "      <td>5/6/2024 12:40</td>\n",
       "      <td>NaN</td>\n",
       "      <td>Yes</td>\n",
       "      <td>Yes</td>\n",
       "      <td>sometimes</td>\n",
       "      <td>sometimes</td>\n",
       "      <td>Yes</td>\n",
       "      <td>No</td>\n",
       "      <td>sometimes</td>\n",
       "      <td>sometimes</td>\n",
       "      <td>...</td>\n",
       "      <td>Yes</td>\n",
       "      <td>Yes</td>\n",
       "      <td>Yes</td>\n",
       "      <td>Yes</td>\n",
       "      <td>Yes</td>\n",
       "      <td>Yes</td>\n",
       "      <td>Yes</td>\n",
       "      <td>Yes</td>\n",
       "      <td>Joram</td>\n",
       "      <td>Melancholic</td>\n",
       "    </tr>\n",
       "  </tbody>\n",
       "</table>\n",
       "<p>5 rows × 37 columns</p>\n",
       "</div>"
      ],
      "text/plain": [
       "            Timestamp  Email Address Do you wish to participate  \\\n",
       "0   4/26/2024 5:52:04            NaN                        Yes   \n",
       "1   4/26/2024 9:06:57            NaN                        Yes   \n",
       "2   4/26/2024 9:48:57            NaN                        Yes   \n",
       "3  4/28/2024 20:16:12            NaN                        Yes   \n",
       "4      5/6/2024 12:40            NaN                        Yes   \n",
       "\n",
       "  Are you social  Talkative  Forgetful  organized Quick to anger     Heroic  \\\n",
       "0      sometimes  sometimes  sometimes        Yes      sometimes  sometimes   \n",
       "1      sometimes        Yes        Yes        Yes             No         No   \n",
       "2            Yes        Yes  sometimes  sometimes            Yes        Yes   \n",
       "3      sometimes  sometimes  sometimes        Yes      sometimes  sometimes   \n",
       "4            Yes  sometimes  sometimes        Yes             No  sometimes   \n",
       "\n",
       "  Takes Things Personal  ... quick in action quiet and complacement  \\\n",
       "0             sometimes  ...              No              sometimes   \n",
       "1             sometimes  ...              No                    Yes   \n",
       "2                    No  ...             Yes              sometimes   \n",
       "3                   Yes  ...       sometimes              sometimes   \n",
       "4             sometimes  ...             Yes                    Yes   \n",
       "\n",
       "  likes activities loves people innovative truoble concretrating  \\\n",
       "0              Yes    sometimes        Yes             sometimes   \n",
       "1        sometimes          Yes  sometimes                    No   \n",
       "2              Yes           No        Yes                    No   \n",
       "3        sometimes    sometimes        Yes                    No   \n",
       "4              Yes          Yes        Yes                   Yes   \n",
       "\n",
       "  delight in change likes discussions Enter User Name of your choice  \\\n",
       "0                No         sometimes                            NaN   \n",
       "1         sometimes         sometimes                            NaN   \n",
       "2                No                No                          crage   \n",
       "3               Yes               Yes                            Tar   \n",
       "4               Yes               Yes                          Joram   \n",
       "\n",
       "   Personality  \n",
       "0     Sanguine  \n",
       "1     Sanguine  \n",
       "2     Choleric  \n",
       "3     Sanguine  \n",
       "4  Melancholic  \n",
       "\n",
       "[5 rows x 37 columns]"
      ]
     },
     "execution_count": 4,
     "metadata": {},
     "output_type": "execute_result"
    }
   ],
   "source": [
    "data.head(5)"
   ]
  },
  {
   "cell_type": "code",
   "execution_count": 5,
   "id": "8ed690c9",
   "metadata": {},
   "outputs": [
    {
     "data": {
      "text/plain": [
       "Timestamp                          object\n",
       "Email Address                     float64\n",
       "Do you wish to participate         object\n",
       "Are you social                     object\n",
       "Talkative                          object\n",
       "Forgetful                          object\n",
       "organized                          object\n",
       "Quick to anger                     object\n",
       "Heroic                             object\n",
       "Takes Things Personal              object\n",
       "Poetic & Analytical                object\n",
       "like to be alone                   object\n",
       "hard to motivate                   object\n",
       "likes comfort                      object\n",
       "Avoid crisis                       object\n",
       "Peacemaker                         object\n",
       "Thoughtful and reserved            object\n",
       "Sometimes Anxious                  object\n",
       "Quick to judge                     object\n",
       "Demanding and agressive            object\n",
       "fearful                            object\n",
       "devoted and compassionate          object\n",
       "appears lazy                       object\n",
       "relaxed and peaceful               object\n",
       "loves food                         object\n",
       "likes comfort.1                    object\n",
       "cheerful and easy going            object\n",
       "quick in action                    object\n",
       "quiet and complacement             object\n",
       "likes activities                   object\n",
       "loves people                       object\n",
       "innovative                         object\n",
       "truoble concretrating              object\n",
       "delight in change                  object\n",
       "likes discussions                  object\n",
       "Enter User Name of your choice     object\n",
       "Personality                        object\n",
       "dtype: object"
      ]
     },
     "execution_count": 5,
     "metadata": {},
     "output_type": "execute_result"
    }
   ],
   "source": [
    "data.dtypes"
   ]
  },
  {
   "cell_type": "code",
   "execution_count": 6,
   "id": "a4c20a7f",
   "metadata": {},
   "outputs": [
    {
     "data": {
      "text/plain": [
       "(12, 37)"
      ]
     },
     "execution_count": 6,
     "metadata": {},
     "output_type": "execute_result"
    }
   ],
   "source": [
    "data.shape\n"
   ]
  },
  {
   "cell_type": "markdown",
   "id": "a3501d07",
   "metadata": {},
   "source": [
    "### Feature Selection"
   ]
  },
  {
   "cell_type": "code",
   "execution_count": 7,
   "id": "48f7e38a",
   "metadata": {},
   "outputs": [],
   "source": [
    "data1 = data[[\"Enter User Name of your choice\",\"loves people\",\"hard to motivate\",\"Avoid crisis\",\"Are you social\",\"Talkative\",\"Forgetful\",\"organized\",\"Quick to judge\",\"like to be alone\",\"Personality\"]]"
   ]
  },
  {
   "cell_type": "code",
   "execution_count": 9,
   "id": "379887a1",
   "metadata": {},
   "outputs": [
    {
     "data": {
      "text/html": [
       "<div>\n",
       "<style scoped>\n",
       "    .dataframe tbody tr th:only-of-type {\n",
       "        vertical-align: middle;\n",
       "    }\n",
       "\n",
       "    .dataframe tbody tr th {\n",
       "        vertical-align: top;\n",
       "    }\n",
       "\n",
       "    .dataframe thead th {\n",
       "        text-align: right;\n",
       "    }\n",
       "</style>\n",
       "<table border=\"1\" class=\"dataframe\">\n",
       "  <thead>\n",
       "    <tr style=\"text-align: right;\">\n",
       "      <th></th>\n",
       "      <th>Enter User Name of your choice</th>\n",
       "      <th>loves people</th>\n",
       "      <th>hard to motivate</th>\n",
       "      <th>Avoid crisis</th>\n",
       "      <th>Are you social</th>\n",
       "      <th>Talkative</th>\n",
       "      <th>Forgetful</th>\n",
       "      <th>organized</th>\n",
       "      <th>Quick to judge</th>\n",
       "      <th>like to be alone</th>\n",
       "      <th>Personality</th>\n",
       "    </tr>\n",
       "  </thead>\n",
       "  <tbody>\n",
       "    <tr>\n",
       "      <th>0</th>\n",
       "      <td>NaN</td>\n",
       "      <td>sometimes</td>\n",
       "      <td>No</td>\n",
       "      <td>sometimes</td>\n",
       "      <td>sometimes</td>\n",
       "      <td>sometimes</td>\n",
       "      <td>sometimes</td>\n",
       "      <td>Yes</td>\n",
       "      <td>No</td>\n",
       "      <td>Yes</td>\n",
       "      <td>Sanguine</td>\n",
       "    </tr>\n",
       "    <tr>\n",
       "      <th>1</th>\n",
       "      <td>NaN</td>\n",
       "      <td>Yes</td>\n",
       "      <td>sometimes</td>\n",
       "      <td>Yes</td>\n",
       "      <td>sometimes</td>\n",
       "      <td>Yes</td>\n",
       "      <td>Yes</td>\n",
       "      <td>Yes</td>\n",
       "      <td>sometimes</td>\n",
       "      <td>Yes</td>\n",
       "      <td>Sanguine</td>\n",
       "    </tr>\n",
       "    <tr>\n",
       "      <th>2</th>\n",
       "      <td>crage</td>\n",
       "      <td>No</td>\n",
       "      <td>Yes</td>\n",
       "      <td>No</td>\n",
       "      <td>Yes</td>\n",
       "      <td>Yes</td>\n",
       "      <td>sometimes</td>\n",
       "      <td>sometimes</td>\n",
       "      <td>Yes</td>\n",
       "      <td>No</td>\n",
       "      <td>Choleric</td>\n",
       "    </tr>\n",
       "    <tr>\n",
       "      <th>3</th>\n",
       "      <td>Tar</td>\n",
       "      <td>sometimes</td>\n",
       "      <td>No</td>\n",
       "      <td>sometimes</td>\n",
       "      <td>sometimes</td>\n",
       "      <td>sometimes</td>\n",
       "      <td>sometimes</td>\n",
       "      <td>Yes</td>\n",
       "      <td>sometimes</td>\n",
       "      <td>Yes</td>\n",
       "      <td>Sanguine</td>\n",
       "    </tr>\n",
       "    <tr>\n",
       "      <th>4</th>\n",
       "      <td>Joram</td>\n",
       "      <td>Yes</td>\n",
       "      <td>No</td>\n",
       "      <td>Yes</td>\n",
       "      <td>Yes</td>\n",
       "      <td>sometimes</td>\n",
       "      <td>sometimes</td>\n",
       "      <td>Yes</td>\n",
       "      <td>No</td>\n",
       "      <td>sometimes</td>\n",
       "      <td>Melancholic</td>\n",
       "    </tr>\n",
       "  </tbody>\n",
       "</table>\n",
       "</div>"
      ],
      "text/plain": [
       "  Enter User Name of your choice loves people hard to motivate Avoid crisis  \\\n",
       "0                            NaN    sometimes               No    sometimes   \n",
       "1                            NaN          Yes        sometimes          Yes   \n",
       "2                          crage           No              Yes           No   \n",
       "3                            Tar    sometimes               No    sometimes   \n",
       "4                          Joram          Yes               No          Yes   \n",
       "\n",
       "  Are you social  Talkative  Forgetful  organized Quick to judge  \\\n",
       "0      sometimes  sometimes  sometimes        Yes             No   \n",
       "1      sometimes        Yes        Yes        Yes      sometimes   \n",
       "2            Yes        Yes  sometimes  sometimes            Yes   \n",
       "3      sometimes  sometimes  sometimes        Yes      sometimes   \n",
       "4            Yes  sometimes  sometimes        Yes             No   \n",
       "\n",
       "  like to be alone  Personality  \n",
       "0              Yes     Sanguine  \n",
       "1              Yes     Sanguine  \n",
       "2               No     Choleric  \n",
       "3              Yes     Sanguine  \n",
       "4        sometimes  Melancholic  "
      ]
     },
     "execution_count": 9,
     "metadata": {},
     "output_type": "execute_result"
    }
   ],
   "source": [
    "data1.head()"
   ]
  },
  {
   "cell_type": "code",
   "execution_count": 10,
   "id": "157a4c1c",
   "metadata": {},
   "outputs": [],
   "source": [
    "data2 = data[[\"Enter User Name of your choice\",\"loves people\",\"hard to motivate\",\"Avoid crisis\",\"Are you social\",\"Talkative\",\"Forgetful\",\"organized\",\"Quick to judge\",\"like to be alone\",\"Personality\"]]"
   ]
  },
  {
   "cell_type": "code",
   "execution_count": 11,
   "id": "86696f77",
   "metadata": {},
   "outputs": [
    {
     "data": {
      "text/html": [
       "<div>\n",
       "<style scoped>\n",
       "    .dataframe tbody tr th:only-of-type {\n",
       "        vertical-align: middle;\n",
       "    }\n",
       "\n",
       "    .dataframe tbody tr th {\n",
       "        vertical-align: top;\n",
       "    }\n",
       "\n",
       "    .dataframe thead th {\n",
       "        text-align: right;\n",
       "    }\n",
       "</style>\n",
       "<table border=\"1\" class=\"dataframe\">\n",
       "  <thead>\n",
       "    <tr style=\"text-align: right;\">\n",
       "      <th></th>\n",
       "      <th>Enter User Name of your choice</th>\n",
       "      <th>loves people</th>\n",
       "      <th>hard to motivate</th>\n",
       "      <th>Avoid crisis</th>\n",
       "      <th>Are you social</th>\n",
       "      <th>Talkative</th>\n",
       "      <th>Forgetful</th>\n",
       "      <th>organized</th>\n",
       "      <th>Quick to judge</th>\n",
       "      <th>like to be alone</th>\n",
       "      <th>Personality</th>\n",
       "    </tr>\n",
       "  </thead>\n",
       "  <tbody>\n",
       "    <tr>\n",
       "      <th>0</th>\n",
       "      <td>NaN</td>\n",
       "      <td>sometimes</td>\n",
       "      <td>No</td>\n",
       "      <td>sometimes</td>\n",
       "      <td>sometimes</td>\n",
       "      <td>sometimes</td>\n",
       "      <td>sometimes</td>\n",
       "      <td>Yes</td>\n",
       "      <td>No</td>\n",
       "      <td>Yes</td>\n",
       "      <td>Sanguine</td>\n",
       "    </tr>\n",
       "    <tr>\n",
       "      <th>1</th>\n",
       "      <td>NaN</td>\n",
       "      <td>Yes</td>\n",
       "      <td>sometimes</td>\n",
       "      <td>Yes</td>\n",
       "      <td>sometimes</td>\n",
       "      <td>Yes</td>\n",
       "      <td>Yes</td>\n",
       "      <td>Yes</td>\n",
       "      <td>sometimes</td>\n",
       "      <td>Yes</td>\n",
       "      <td>Sanguine</td>\n",
       "    </tr>\n",
       "    <tr>\n",
       "      <th>2</th>\n",
       "      <td>crage</td>\n",
       "      <td>No</td>\n",
       "      <td>Yes</td>\n",
       "      <td>No</td>\n",
       "      <td>Yes</td>\n",
       "      <td>Yes</td>\n",
       "      <td>sometimes</td>\n",
       "      <td>sometimes</td>\n",
       "      <td>Yes</td>\n",
       "      <td>No</td>\n",
       "      <td>Choleric</td>\n",
       "    </tr>\n",
       "    <tr>\n",
       "      <th>3</th>\n",
       "      <td>Tar</td>\n",
       "      <td>sometimes</td>\n",
       "      <td>No</td>\n",
       "      <td>sometimes</td>\n",
       "      <td>sometimes</td>\n",
       "      <td>sometimes</td>\n",
       "      <td>sometimes</td>\n",
       "      <td>Yes</td>\n",
       "      <td>sometimes</td>\n",
       "      <td>Yes</td>\n",
       "      <td>Sanguine</td>\n",
       "    </tr>\n",
       "    <tr>\n",
       "      <th>4</th>\n",
       "      <td>Joram</td>\n",
       "      <td>Yes</td>\n",
       "      <td>No</td>\n",
       "      <td>Yes</td>\n",
       "      <td>Yes</td>\n",
       "      <td>sometimes</td>\n",
       "      <td>sometimes</td>\n",
       "      <td>Yes</td>\n",
       "      <td>No</td>\n",
       "      <td>sometimes</td>\n",
       "      <td>Melancholic</td>\n",
       "    </tr>\n",
       "    <tr>\n",
       "      <th>5</th>\n",
       "      <td>Zanamwe</td>\n",
       "      <td>Yes</td>\n",
       "      <td>No</td>\n",
       "      <td>Yes</td>\n",
       "      <td>sometimes</td>\n",
       "      <td>sometimes</td>\n",
       "      <td>Yes</td>\n",
       "      <td>Yes</td>\n",
       "      <td>sometimes</td>\n",
       "      <td>sometimes</td>\n",
       "      <td>Sanguine</td>\n",
       "    </tr>\n",
       "    <tr>\n",
       "      <th>6</th>\n",
       "      <td>MAINODZA</td>\n",
       "      <td>Yes</td>\n",
       "      <td>sometimes</td>\n",
       "      <td>Yes</td>\n",
       "      <td>sometimes</td>\n",
       "      <td>Yes</td>\n",
       "      <td>No</td>\n",
       "      <td>Yes</td>\n",
       "      <td>No</td>\n",
       "      <td>No</td>\n",
       "      <td>Melancholic</td>\n",
       "    </tr>\n",
       "    <tr>\n",
       "      <th>7</th>\n",
       "      <td>Tripoli</td>\n",
       "      <td>Yes</td>\n",
       "      <td>No</td>\n",
       "      <td>sometimes</td>\n",
       "      <td>sometimes</td>\n",
       "      <td>No</td>\n",
       "      <td>sometimes</td>\n",
       "      <td>sometimes</td>\n",
       "      <td>No</td>\n",
       "      <td>Yes</td>\n",
       "      <td>Phlegmatic</td>\n",
       "    </tr>\n",
       "    <tr>\n",
       "      <th>8</th>\n",
       "      <td>Sir Elder</td>\n",
       "      <td>Yes</td>\n",
       "      <td>No</td>\n",
       "      <td>sometimes</td>\n",
       "      <td>Yes</td>\n",
       "      <td>No</td>\n",
       "      <td>No</td>\n",
       "      <td>Yes</td>\n",
       "      <td>No</td>\n",
       "      <td>sometimes</td>\n",
       "      <td>Phlegmatic</td>\n",
       "    </tr>\n",
       "    <tr>\n",
       "      <th>9</th>\n",
       "      <td>Anold</td>\n",
       "      <td>Yes</td>\n",
       "      <td>Yes</td>\n",
       "      <td>sometimes</td>\n",
       "      <td>Yes</td>\n",
       "      <td>Yes</td>\n",
       "      <td>No</td>\n",
       "      <td>Yes</td>\n",
       "      <td>Yes</td>\n",
       "      <td>Yes</td>\n",
       "      <td>Melancholic</td>\n",
       "    </tr>\n",
       "    <tr>\n",
       "      <th>10</th>\n",
       "      <td>Kue</td>\n",
       "      <td>Yes</td>\n",
       "      <td>sometimes</td>\n",
       "      <td>Yes</td>\n",
       "      <td>sometimes</td>\n",
       "      <td>sometimes</td>\n",
       "      <td>No</td>\n",
       "      <td>Yes</td>\n",
       "      <td>No</td>\n",
       "      <td>Yes</td>\n",
       "      <td>Melancholic</td>\n",
       "    </tr>\n",
       "    <tr>\n",
       "      <th>11</th>\n",
       "      <td>Me</td>\n",
       "      <td>Yes</td>\n",
       "      <td>No</td>\n",
       "      <td>Yes</td>\n",
       "      <td>Yes</td>\n",
       "      <td>Yes</td>\n",
       "      <td>Yes</td>\n",
       "      <td>No</td>\n",
       "      <td>No</td>\n",
       "      <td>No</td>\n",
       "      <td>Phlegmatic</td>\n",
       "    </tr>\n",
       "  </tbody>\n",
       "</table>\n",
       "</div>"
      ],
      "text/plain": [
       "   Enter User Name of your choice loves people hard to motivate Avoid crisis  \\\n",
       "0                             NaN    sometimes               No    sometimes   \n",
       "1                             NaN          Yes        sometimes          Yes   \n",
       "2                           crage           No              Yes           No   \n",
       "3                             Tar    sometimes               No    sometimes   \n",
       "4                           Joram          Yes               No          Yes   \n",
       "5                        Zanamwe           Yes               No          Yes   \n",
       "6                        MAINODZA          Yes        sometimes          Yes   \n",
       "7                         Tripoli          Yes               No    sometimes   \n",
       "8                       Sir Elder          Yes               No    sometimes   \n",
       "9                           Anold          Yes              Yes    sometimes   \n",
       "10                            Kue          Yes        sometimes          Yes   \n",
       "11                             Me          Yes               No          Yes   \n",
       "\n",
       "   Are you social  Talkative  Forgetful  organized Quick to judge  \\\n",
       "0       sometimes  sometimes  sometimes        Yes             No   \n",
       "1       sometimes        Yes        Yes        Yes      sometimes   \n",
       "2             Yes        Yes  sometimes  sometimes            Yes   \n",
       "3       sometimes  sometimes  sometimes        Yes      sometimes   \n",
       "4             Yes  sometimes  sometimes        Yes             No   \n",
       "5       sometimes  sometimes        Yes        Yes      sometimes   \n",
       "6       sometimes        Yes         No        Yes             No   \n",
       "7       sometimes         No  sometimes  sometimes             No   \n",
       "8             Yes         No         No        Yes             No   \n",
       "9             Yes        Yes         No        Yes            Yes   \n",
       "10      sometimes  sometimes         No        Yes             No   \n",
       "11            Yes        Yes        Yes         No             No   \n",
       "\n",
       "   like to be alone  Personality  \n",
       "0               Yes     Sanguine  \n",
       "1               Yes     Sanguine  \n",
       "2                No     Choleric  \n",
       "3               Yes     Sanguine  \n",
       "4         sometimes  Melancholic  \n",
       "5         sometimes     Sanguine  \n",
       "6                No  Melancholic  \n",
       "7               Yes   Phlegmatic  \n",
       "8         sometimes   Phlegmatic  \n",
       "9               Yes  Melancholic  \n",
       "10              Yes  Melancholic  \n",
       "11               No   Phlegmatic  "
      ]
     },
     "execution_count": 11,
     "metadata": {},
     "output_type": "execute_result"
    }
   ],
   "source": [
    "data2"
   ]
  },
  {
   "cell_type": "code",
   "execution_count": 12,
   "id": "aedc4e8f",
   "metadata": {},
   "outputs": [
    {
     "data": {
      "text/plain": [
       "(12, 11)"
      ]
     },
     "execution_count": 12,
     "metadata": {},
     "output_type": "execute_result"
    }
   ],
   "source": [
    "data1.shape\n"
   ]
  },
  {
   "cell_type": "code",
   "execution_count": 18,
   "id": "2ceaac50",
   "metadata": {},
   "outputs": [],
   "source": [
    "data2.rename(columns={'Enter User Name of your choice': 'Name'}, inplace=True)\n"
   ]
  },
  {
   "cell_type": "code",
   "execution_count": 19,
   "id": "48f6fb90",
   "metadata": {},
   "outputs": [
    {
     "data": {
      "text/html": [
       "<div>\n",
       "<style scoped>\n",
       "    .dataframe tbody tr th:only-of-type {\n",
       "        vertical-align: middle;\n",
       "    }\n",
       "\n",
       "    .dataframe tbody tr th {\n",
       "        vertical-align: top;\n",
       "    }\n",
       "\n",
       "    .dataframe thead th {\n",
       "        text-align: right;\n",
       "    }\n",
       "</style>\n",
       "<table border=\"1\" class=\"dataframe\">\n",
       "  <thead>\n",
       "    <tr style=\"text-align: right;\">\n",
       "      <th></th>\n",
       "      <th>Name</th>\n",
       "      <th>loves people</th>\n",
       "      <th>hard to motivate</th>\n",
       "      <th>Avoid crisis</th>\n",
       "      <th>Are you social</th>\n",
       "      <th>Talkative</th>\n",
       "      <th>Forgetful</th>\n",
       "      <th>organized</th>\n",
       "      <th>Quick to judge</th>\n",
       "      <th>like to be alone</th>\n",
       "      <th>Personality</th>\n",
       "    </tr>\n",
       "  </thead>\n",
       "  <tbody>\n",
       "    <tr>\n",
       "      <th>0</th>\n",
       "      <td>NaN</td>\n",
       "      <td>sometimes</td>\n",
       "      <td>No</td>\n",
       "      <td>sometimes</td>\n",
       "      <td>sometimes</td>\n",
       "      <td>sometimes</td>\n",
       "      <td>sometimes</td>\n",
       "      <td>Yes</td>\n",
       "      <td>No</td>\n",
       "      <td>Yes</td>\n",
       "      <td>Sanguine</td>\n",
       "    </tr>\n",
       "    <tr>\n",
       "      <th>1</th>\n",
       "      <td>NaN</td>\n",
       "      <td>Yes</td>\n",
       "      <td>sometimes</td>\n",
       "      <td>Yes</td>\n",
       "      <td>sometimes</td>\n",
       "      <td>Yes</td>\n",
       "      <td>Yes</td>\n",
       "      <td>Yes</td>\n",
       "      <td>sometimes</td>\n",
       "      <td>Yes</td>\n",
       "      <td>Sanguine</td>\n",
       "    </tr>\n",
       "    <tr>\n",
       "      <th>2</th>\n",
       "      <td>crage</td>\n",
       "      <td>No</td>\n",
       "      <td>Yes</td>\n",
       "      <td>No</td>\n",
       "      <td>Yes</td>\n",
       "      <td>Yes</td>\n",
       "      <td>sometimes</td>\n",
       "      <td>sometimes</td>\n",
       "      <td>Yes</td>\n",
       "      <td>No</td>\n",
       "      <td>Choleric</td>\n",
       "    </tr>\n",
       "    <tr>\n",
       "      <th>3</th>\n",
       "      <td>Tar</td>\n",
       "      <td>sometimes</td>\n",
       "      <td>No</td>\n",
       "      <td>sometimes</td>\n",
       "      <td>sometimes</td>\n",
       "      <td>sometimes</td>\n",
       "      <td>sometimes</td>\n",
       "      <td>Yes</td>\n",
       "      <td>sometimes</td>\n",
       "      <td>Yes</td>\n",
       "      <td>Sanguine</td>\n",
       "    </tr>\n",
       "    <tr>\n",
       "      <th>4</th>\n",
       "      <td>Joram</td>\n",
       "      <td>Yes</td>\n",
       "      <td>No</td>\n",
       "      <td>Yes</td>\n",
       "      <td>Yes</td>\n",
       "      <td>sometimes</td>\n",
       "      <td>sometimes</td>\n",
       "      <td>Yes</td>\n",
       "      <td>No</td>\n",
       "      <td>sometimes</td>\n",
       "      <td>Melancholic</td>\n",
       "    </tr>\n",
       "  </tbody>\n",
       "</table>\n",
       "</div>"
      ],
      "text/plain": [
       "    Name loves people hard to motivate Avoid crisis Are you social  Talkative  \\\n",
       "0    NaN    sometimes               No    sometimes      sometimes  sometimes   \n",
       "1    NaN          Yes        sometimes          Yes      sometimes        Yes   \n",
       "2  crage           No              Yes           No            Yes        Yes   \n",
       "3    Tar    sometimes               No    sometimes      sometimes  sometimes   \n",
       "4  Joram          Yes               No          Yes            Yes  sometimes   \n",
       "\n",
       "   Forgetful  organized Quick to judge like to be alone  Personality  \n",
       "0  sometimes        Yes             No              Yes     Sanguine  \n",
       "1        Yes        Yes      sometimes              Yes     Sanguine  \n",
       "2  sometimes  sometimes            Yes               No     Choleric  \n",
       "3  sometimes        Yes      sometimes              Yes     Sanguine  \n",
       "4  sometimes        Yes             No        sometimes  Melancholic  "
      ]
     },
     "execution_count": 19,
     "metadata": {},
     "output_type": "execute_result"
    }
   ],
   "source": [
    "data2.head()"
   ]
  },
  {
   "cell_type": "code",
   "execution_count": 20,
   "id": "d3cba67d",
   "metadata": {},
   "outputs": [],
   "source": [
    "data1.rename(columns={'Enter User Name of your choice': 'Name'}, inplace=True)\n"
   ]
  },
  {
   "cell_type": "code",
   "execution_count": 21,
   "id": "1c5a7ffc",
   "metadata": {},
   "outputs": [
    {
     "data": {
      "text/html": [
       "<div>\n",
       "<style scoped>\n",
       "    .dataframe tbody tr th:only-of-type {\n",
       "        vertical-align: middle;\n",
       "    }\n",
       "\n",
       "    .dataframe tbody tr th {\n",
       "        vertical-align: top;\n",
       "    }\n",
       "\n",
       "    .dataframe thead th {\n",
       "        text-align: right;\n",
       "    }\n",
       "</style>\n",
       "<table border=\"1\" class=\"dataframe\">\n",
       "  <thead>\n",
       "    <tr style=\"text-align: right;\">\n",
       "      <th></th>\n",
       "      <th>Name</th>\n",
       "      <th>loves people</th>\n",
       "      <th>hard to motivate</th>\n",
       "      <th>Avoid crisis</th>\n",
       "      <th>Are you social</th>\n",
       "      <th>Talkative</th>\n",
       "      <th>Forgetful</th>\n",
       "      <th>organized</th>\n",
       "      <th>Quick to judge</th>\n",
       "      <th>like to be alone</th>\n",
       "      <th>Personality</th>\n",
       "    </tr>\n",
       "  </thead>\n",
       "  <tbody>\n",
       "    <tr>\n",
       "      <th>0</th>\n",
       "      <td>NaN</td>\n",
       "      <td>sometimes</td>\n",
       "      <td>No</td>\n",
       "      <td>sometimes</td>\n",
       "      <td>sometimes</td>\n",
       "      <td>sometimes</td>\n",
       "      <td>sometimes</td>\n",
       "      <td>Yes</td>\n",
       "      <td>No</td>\n",
       "      <td>Yes</td>\n",
       "      <td>Sanguine</td>\n",
       "    </tr>\n",
       "    <tr>\n",
       "      <th>1</th>\n",
       "      <td>NaN</td>\n",
       "      <td>Yes</td>\n",
       "      <td>sometimes</td>\n",
       "      <td>Yes</td>\n",
       "      <td>sometimes</td>\n",
       "      <td>Yes</td>\n",
       "      <td>Yes</td>\n",
       "      <td>Yes</td>\n",
       "      <td>sometimes</td>\n",
       "      <td>Yes</td>\n",
       "      <td>Sanguine</td>\n",
       "    </tr>\n",
       "    <tr>\n",
       "      <th>2</th>\n",
       "      <td>crage</td>\n",
       "      <td>No</td>\n",
       "      <td>Yes</td>\n",
       "      <td>No</td>\n",
       "      <td>Yes</td>\n",
       "      <td>Yes</td>\n",
       "      <td>sometimes</td>\n",
       "      <td>sometimes</td>\n",
       "      <td>Yes</td>\n",
       "      <td>No</td>\n",
       "      <td>Choleric</td>\n",
       "    </tr>\n",
       "    <tr>\n",
       "      <th>3</th>\n",
       "      <td>Tar</td>\n",
       "      <td>sometimes</td>\n",
       "      <td>No</td>\n",
       "      <td>sometimes</td>\n",
       "      <td>sometimes</td>\n",
       "      <td>sometimes</td>\n",
       "      <td>sometimes</td>\n",
       "      <td>Yes</td>\n",
       "      <td>sometimes</td>\n",
       "      <td>Yes</td>\n",
       "      <td>Sanguine</td>\n",
       "    </tr>\n",
       "    <tr>\n",
       "      <th>4</th>\n",
       "      <td>Joram</td>\n",
       "      <td>Yes</td>\n",
       "      <td>No</td>\n",
       "      <td>Yes</td>\n",
       "      <td>Yes</td>\n",
       "      <td>sometimes</td>\n",
       "      <td>sometimes</td>\n",
       "      <td>Yes</td>\n",
       "      <td>No</td>\n",
       "      <td>sometimes</td>\n",
       "      <td>Melancholic</td>\n",
       "    </tr>\n",
       "  </tbody>\n",
       "</table>\n",
       "</div>"
      ],
      "text/plain": [
       "    Name loves people hard to motivate Avoid crisis Are you social  Talkative  \\\n",
       "0    NaN    sometimes               No    sometimes      sometimes  sometimes   \n",
       "1    NaN          Yes        sometimes          Yes      sometimes        Yes   \n",
       "2  crage           No              Yes           No            Yes        Yes   \n",
       "3    Tar    sometimes               No    sometimes      sometimes  sometimes   \n",
       "4  Joram          Yes               No          Yes            Yes  sometimes   \n",
       "\n",
       "   Forgetful  organized Quick to judge like to be alone  Personality  \n",
       "0  sometimes        Yes             No              Yes     Sanguine  \n",
       "1        Yes        Yes      sometimes              Yes     Sanguine  \n",
       "2  sometimes  sometimes            Yes               No     Choleric  \n",
       "3  sometimes        Yes      sometimes              Yes     Sanguine  \n",
       "4  sometimes        Yes             No        sometimes  Melancholic  "
      ]
     },
     "execution_count": 21,
     "metadata": {},
     "output_type": "execute_result"
    }
   ],
   "source": [
    "data1.head()"
   ]
  },
  {
   "cell_type": "code",
   "execution_count": 22,
   "id": "7256d24a",
   "metadata": {},
   "outputs": [],
   "source": [
    "data2 = data2.drop(\"Name\",1)"
   ]
  },
  {
   "cell_type": "code",
   "execution_count": 23,
   "id": "aa14f8c1",
   "metadata": {},
   "outputs": [
    {
     "data": {
      "text/html": [
       "<div>\n",
       "<style scoped>\n",
       "    .dataframe tbody tr th:only-of-type {\n",
       "        vertical-align: middle;\n",
       "    }\n",
       "\n",
       "    .dataframe tbody tr th {\n",
       "        vertical-align: top;\n",
       "    }\n",
       "\n",
       "    .dataframe thead th {\n",
       "        text-align: right;\n",
       "    }\n",
       "</style>\n",
       "<table border=\"1\" class=\"dataframe\">\n",
       "  <thead>\n",
       "    <tr style=\"text-align: right;\">\n",
       "      <th></th>\n",
       "      <th>loves people</th>\n",
       "      <th>hard to motivate</th>\n",
       "      <th>Avoid crisis</th>\n",
       "      <th>Are you social</th>\n",
       "      <th>Talkative</th>\n",
       "      <th>Forgetful</th>\n",
       "      <th>organized</th>\n",
       "      <th>Quick to judge</th>\n",
       "      <th>like to be alone</th>\n",
       "      <th>Personality</th>\n",
       "    </tr>\n",
       "  </thead>\n",
       "  <tbody>\n",
       "    <tr>\n",
       "      <th>0</th>\n",
       "      <td>sometimes</td>\n",
       "      <td>No</td>\n",
       "      <td>sometimes</td>\n",
       "      <td>sometimes</td>\n",
       "      <td>sometimes</td>\n",
       "      <td>sometimes</td>\n",
       "      <td>Yes</td>\n",
       "      <td>No</td>\n",
       "      <td>Yes</td>\n",
       "      <td>Sanguine</td>\n",
       "    </tr>\n",
       "    <tr>\n",
       "      <th>1</th>\n",
       "      <td>Yes</td>\n",
       "      <td>sometimes</td>\n",
       "      <td>Yes</td>\n",
       "      <td>sometimes</td>\n",
       "      <td>Yes</td>\n",
       "      <td>Yes</td>\n",
       "      <td>Yes</td>\n",
       "      <td>sometimes</td>\n",
       "      <td>Yes</td>\n",
       "      <td>Sanguine</td>\n",
       "    </tr>\n",
       "    <tr>\n",
       "      <th>2</th>\n",
       "      <td>No</td>\n",
       "      <td>Yes</td>\n",
       "      <td>No</td>\n",
       "      <td>Yes</td>\n",
       "      <td>Yes</td>\n",
       "      <td>sometimes</td>\n",
       "      <td>sometimes</td>\n",
       "      <td>Yes</td>\n",
       "      <td>No</td>\n",
       "      <td>Choleric</td>\n",
       "    </tr>\n",
       "    <tr>\n",
       "      <th>3</th>\n",
       "      <td>sometimes</td>\n",
       "      <td>No</td>\n",
       "      <td>sometimes</td>\n",
       "      <td>sometimes</td>\n",
       "      <td>sometimes</td>\n",
       "      <td>sometimes</td>\n",
       "      <td>Yes</td>\n",
       "      <td>sometimes</td>\n",
       "      <td>Yes</td>\n",
       "      <td>Sanguine</td>\n",
       "    </tr>\n",
       "    <tr>\n",
       "      <th>4</th>\n",
       "      <td>Yes</td>\n",
       "      <td>No</td>\n",
       "      <td>Yes</td>\n",
       "      <td>Yes</td>\n",
       "      <td>sometimes</td>\n",
       "      <td>sometimes</td>\n",
       "      <td>Yes</td>\n",
       "      <td>No</td>\n",
       "      <td>sometimes</td>\n",
       "      <td>Melancholic</td>\n",
       "    </tr>\n",
       "  </tbody>\n",
       "</table>\n",
       "</div>"
      ],
      "text/plain": [
       "  loves people hard to motivate Avoid crisis Are you social  Talkative  \\\n",
       "0    sometimes               No    sometimes      sometimes  sometimes   \n",
       "1          Yes        sometimes          Yes      sometimes        Yes   \n",
       "2           No              Yes           No            Yes        Yes   \n",
       "3    sometimes               No    sometimes      sometimes  sometimes   \n",
       "4          Yes               No          Yes            Yes  sometimes   \n",
       "\n",
       "   Forgetful  organized Quick to judge like to be alone  Personality  \n",
       "0  sometimes        Yes             No              Yes     Sanguine  \n",
       "1        Yes        Yes      sometimes              Yes     Sanguine  \n",
       "2  sometimes  sometimes            Yes               No     Choleric  \n",
       "3  sometimes        Yes      sometimes              Yes     Sanguine  \n",
       "4  sometimes        Yes             No        sometimes  Melancholic  "
      ]
     },
     "execution_count": 23,
     "metadata": {},
     "output_type": "execute_result"
    }
   ],
   "source": [
    "data2.head() "
   ]
  },
  {
   "cell_type": "markdown",
   "id": "5423ba2c",
   "metadata": {},
   "source": [
    "## spliting Data into training and testing data"
   ]
  },
  {
   "cell_type": "code",
   "execution_count": 20,
   "id": "27c92ba5",
   "metadata": {},
   "outputs": [],
   "source": [
    "#X_train, X_test, y_train, y_test = train_test_split(data2.drop(\"Personality\",1),data2[\"Personality\"], test_size=0.2, random_state=2)"
   ]
  },
  {
   "cell_type": "code",
   "execution_count": 21,
   "id": "9a73cb6b",
   "metadata": {},
   "outputs": [
    {
     "data": {
      "text/html": [
       "<div>\n",
       "<style scoped>\n",
       "    .dataframe tbody tr th:only-of-type {\n",
       "        vertical-align: middle;\n",
       "    }\n",
       "\n",
       "    .dataframe tbody tr th {\n",
       "        vertical-align: top;\n",
       "    }\n",
       "\n",
       "    .dataframe thead th {\n",
       "        text-align: right;\n",
       "    }\n",
       "</style>\n",
       "<table border=\"1\" class=\"dataframe\">\n",
       "  <thead>\n",
       "    <tr style=\"text-align: right;\">\n",
       "      <th></th>\n",
       "      <th>loves people</th>\n",
       "      <th>hard to motivate</th>\n",
       "      <th>Avoid crisis</th>\n",
       "      <th>Are you social</th>\n",
       "      <th>Talkative</th>\n",
       "      <th>Forgetful</th>\n",
       "      <th>organized</th>\n",
       "      <th>Quick to judge</th>\n",
       "      <th>like to be alone</th>\n",
       "    </tr>\n",
       "  </thead>\n",
       "  <tbody>\n",
       "    <tr>\n",
       "      <th>7</th>\n",
       "      <td>Yes</td>\n",
       "      <td>No</td>\n",
       "      <td>sometimes</td>\n",
       "      <td>sometimes</td>\n",
       "      <td>No</td>\n",
       "      <td>sometimes</td>\n",
       "      <td>sometimes</td>\n",
       "      <td>No</td>\n",
       "      <td>Yes</td>\n",
       "    </tr>\n",
       "    <tr>\n",
       "      <th>1</th>\n",
       "      <td>Yes</td>\n",
       "      <td>sometimes</td>\n",
       "      <td>Yes</td>\n",
       "      <td>sometimes</td>\n",
       "      <td>Yes</td>\n",
       "      <td>Yes</td>\n",
       "      <td>Yes</td>\n",
       "      <td>sometimes</td>\n",
       "      <td>Yes</td>\n",
       "    </tr>\n",
       "    <tr>\n",
       "      <th>10</th>\n",
       "      <td>Yes</td>\n",
       "      <td>sometimes</td>\n",
       "      <td>Yes</td>\n",
       "      <td>sometimes</td>\n",
       "      <td>sometimes</td>\n",
       "      <td>No</td>\n",
       "      <td>Yes</td>\n",
       "      <td>No</td>\n",
       "      <td>Yes</td>\n",
       "    </tr>\n",
       "    <tr>\n",
       "      <th>0</th>\n",
       "      <td>sometimes</td>\n",
       "      <td>No</td>\n",
       "      <td>sometimes</td>\n",
       "      <td>sometimes</td>\n",
       "      <td>sometimes</td>\n",
       "      <td>sometimes</td>\n",
       "      <td>Yes</td>\n",
       "      <td>No</td>\n",
       "      <td>Yes</td>\n",
       "    </tr>\n",
       "    <tr>\n",
       "      <th>3</th>\n",
       "      <td>sometimes</td>\n",
       "      <td>No</td>\n",
       "      <td>sometimes</td>\n",
       "      <td>sometimes</td>\n",
       "      <td>sometimes</td>\n",
       "      <td>sometimes</td>\n",
       "      <td>Yes</td>\n",
       "      <td>sometimes</td>\n",
       "      <td>Yes</td>\n",
       "    </tr>\n",
       "    <tr>\n",
       "      <th>2</th>\n",
       "      <td>No</td>\n",
       "      <td>Yes</td>\n",
       "      <td>No</td>\n",
       "      <td>Yes</td>\n",
       "      <td>Yes</td>\n",
       "      <td>sometimes</td>\n",
       "      <td>sometimes</td>\n",
       "      <td>Yes</td>\n",
       "      <td>No</td>\n",
       "    </tr>\n",
       "    <tr>\n",
       "      <th>6</th>\n",
       "      <td>Yes</td>\n",
       "      <td>sometimes</td>\n",
       "      <td>Yes</td>\n",
       "      <td>sometimes</td>\n",
       "      <td>Yes</td>\n",
       "      <td>No</td>\n",
       "      <td>Yes</td>\n",
       "      <td>No</td>\n",
       "      <td>No</td>\n",
       "    </tr>\n",
       "    <tr>\n",
       "      <th>11</th>\n",
       "      <td>Yes</td>\n",
       "      <td>No</td>\n",
       "      <td>Yes</td>\n",
       "      <td>Yes</td>\n",
       "      <td>Yes</td>\n",
       "      <td>Yes</td>\n",
       "      <td>No</td>\n",
       "      <td>No</td>\n",
       "      <td>No</td>\n",
       "    </tr>\n",
       "    <tr>\n",
       "      <th>8</th>\n",
       "      <td>Yes</td>\n",
       "      <td>No</td>\n",
       "      <td>sometimes</td>\n",
       "      <td>Yes</td>\n",
       "      <td>No</td>\n",
       "      <td>No</td>\n",
       "      <td>Yes</td>\n",
       "      <td>No</td>\n",
       "      <td>sometimes</td>\n",
       "    </tr>\n",
       "  </tbody>\n",
       "</table>\n",
       "</div>"
      ],
      "text/plain": [
       "   loves people hard to motivate Avoid crisis Are you social  Talkative  \\\n",
       "7           Yes               No    sometimes      sometimes         No   \n",
       "1           Yes        sometimes          Yes      sometimes        Yes   \n",
       "10          Yes        sometimes          Yes      sometimes  sometimes   \n",
       "0     sometimes               No    sometimes      sometimes  sometimes   \n",
       "3     sometimes               No    sometimes      sometimes  sometimes   \n",
       "2            No              Yes           No            Yes        Yes   \n",
       "6           Yes        sometimes          Yes      sometimes        Yes   \n",
       "11          Yes               No          Yes            Yes        Yes   \n",
       "8           Yes               No    sometimes            Yes         No   \n",
       "\n",
       "    Forgetful  organized Quick to judge like to be alone  \n",
       "7   sometimes  sometimes             No              Yes  \n",
       "1         Yes        Yes      sometimes              Yes  \n",
       "10         No        Yes             No              Yes  \n",
       "0   sometimes        Yes             No              Yes  \n",
       "3   sometimes        Yes      sometimes              Yes  \n",
       "2   sometimes  sometimes            Yes               No  \n",
       "6          No        Yes             No               No  \n",
       "11        Yes         No             No               No  \n",
       "8          No        Yes             No        sometimes  "
      ]
     },
     "execution_count": 21,
     "metadata": {},
     "output_type": "execute_result"
    }
   ],
   "source": [
    "#X_train"
   ]
  },
  {
   "cell_type": "code",
   "execution_count": 22,
   "id": "01313934",
   "metadata": {
    "scrolled": true
   },
   "outputs": [],
   "source": [
    "#y_train"
   ]
  },
  {
   "cell_type": "code",
   "execution_count": 25,
   "id": "7a66a589",
   "metadata": {},
   "outputs": [],
   "source": [
    "# Make predictions on the testing data\n",
    "#y_pred = clf.predict(X_test)\n"
   ]
  },
  {
   "cell_type": "code",
   "execution_count": 26,
   "id": "f6bcffc0",
   "metadata": {},
   "outputs": [],
   "source": [
    "# Evaluate the accuracy of the classifier\n",
    "#accuracy = accuracy_score(y_test, y_pred)\n",
    "#print(\"Accuracy:\", accuracy)\n"
   ]
  },
  {
   "cell_type": "markdown",
   "id": "c98736da",
   "metadata": {},
   "source": [
    "Encoding"
   ]
  },
  {
   "cell_type": "code",
   "execution_count": 24,
   "id": "358d3602",
   "metadata": {},
   "outputs": [
    {
     "data": {
      "text/plain": [
       "'encoded_data = pd.get_dummies(data2, columns[\"loves people\",\"hard to motivate\",\"Avoid crisis\",\"Are you social\",\"Talkative \",\"Forgetful \",\"organized \",\"Quick to judge \",\"like to be alone\",\"Personality \"])\\nencoded_data'"
      ]
     },
     "execution_count": 24,
     "metadata": {},
     "output_type": "execute_result"
    }
   ],
   "source": [
    "#one Hot Encoding\n",
    "'''encoded_data = pd.get_dummies(data2, columns[\"loves people\",\"hard to motivate\",\"Avoid crisis\",\"Are you social\",\"Talkative \",\"Forgetful \",\"organized \",\"Quick to judge \",\"like to be alone\",\"Personality \"])\n",
    "encoded_data'''"
   ]
  },
  {
   "cell_type": "code",
   "execution_count": 28,
   "id": "ceef33b8",
   "metadata": {},
   "outputs": [],
   "source": [
    "#Label Encoding\n",
    "# Import label encoder \n",
    "from sklearn import preprocessing\n",
    "# label_encoder object knows how to understand word labels. \n",
    "#label_encoder = preprocessing.LabelEncoder()\n",
    "\n"
   ]
  },
  {
   "cell_type": "code",
   "execution_count": 29,
   "id": "d3f68855",
   "metadata": {},
   "outputs": [],
   "source": [
    "# Encode labels in column 'Country'. \n",
    "#data2[[\"loves people\",\"hard to motivate\",\"Avoid crisis\",\"Are you social\",\"Talkative\",\"Forgetful\",\"organized\",\"Quick to judge\",\"like to be alone\",\"Personality\"]]= label_encoder.fit_transform(data2[[\"loves people\",\"hard to motivate\",\"Avoid crisis\",\"Are you social\",\"Talkative\",\"Forgetful\",\"organized\",\"Quick to judge\",\"like to be alone\",\"Personality\"]]) \n",
    "#print(data2.head())"
   ]
  },
  {
   "cell_type": "code",
   "execution_count": 25,
   "id": "8e7a2201",
   "metadata": {},
   "outputs": [],
   "source": [
    "#label encoding\n",
    "\n",
    "# Create a LabelEncoder instance\n",
    "encoder = preprocessing.LabelEncoder()\n",
    "\n",
    "# Iterate over each column and perform label encoding\n",
    "for colum in data2.columns:\n",
    "    data2[colum] = encoder.fit_transform(data2[colum].astype(str))"
   ]
  },
  {
   "cell_type": "code",
   "execution_count": 26,
   "id": "8366c908",
   "metadata": {},
   "outputs": [
    {
     "data": {
      "text/plain": [
       "(12, 10)"
      ]
     },
     "execution_count": 26,
     "metadata": {},
     "output_type": "execute_result"
    }
   ],
   "source": [
    "data2.shape"
   ]
  },
  {
   "cell_type": "code",
   "execution_count": 27,
   "id": "c7de2e5c",
   "metadata": {},
   "outputs": [
    {
     "data": {
      "text/plain": [
       "loves people        int32\n",
       "hard to motivate    int32\n",
       "Avoid crisis        int32\n",
       "Are you social      int32\n",
       "Talkative           int32\n",
       "Forgetful           int32\n",
       "organized           int32\n",
       "Quick to judge      int32\n",
       "like to be alone    int32\n",
       "Personality         int32\n",
       "dtype: object"
      ]
     },
     "execution_count": 27,
     "metadata": {},
     "output_type": "execute_result"
    }
   ],
   "source": [
    "data2.dtypes"
   ]
  },
  {
   "cell_type": "markdown",
   "id": "b7abbcc1",
   "metadata": {},
   "source": [
    "# Algorithm selection"
   ]
  },
  {
   "cell_type": "markdown",
   "id": "5b7f4004",
   "metadata": {},
   "source": [
    "#### SVM Algorithm"
   ]
  },
  {
   "cell_type": "code",
   "execution_count": 28,
   "id": "c5090cf8",
   "metadata": {},
   "outputs": [],
   "source": [
    "X_train, X_test, y_train, y_test = train_test_split(data2.drop(\"Personality\",1),data2[\"Personality\"], test_size=0.09, random_state=2)"
   ]
  },
  {
   "cell_type": "code",
   "execution_count": 29,
   "id": "16003be7",
   "metadata": {},
   "outputs": [],
   "source": [
    "# Create Linear SVM object\n",
    "support = svm.LinearSVC(random_state=8)\n"
   ]
  },
  {
   "cell_type": "code",
   "execution_count": 30,
   "id": "7f6efd0b",
   "metadata": {},
   "outputs": [
    {
     "data": {
      "text/plain": [
       "LinearSVC(random_state=8)"
      ]
     },
     "execution_count": 30,
     "metadata": {},
     "output_type": "execute_result"
    }
   ],
   "source": [
    "# Train the model using the training sets \n",
    "support.fit(X_train, y_train)\n"
   ]
  },
  {
   "cell_type": "code",
   "execution_count": 31,
   "id": "ff2192ed",
   "metadata": {},
   "outputs": [],
   "source": [
    "# Create a decision tree classifier\n",
    "clf = DecisionTreeClassifier()\n"
   ]
  },
  {
   "cell_type": "code",
   "execution_count": 32,
   "id": "dcd04a72",
   "metadata": {},
   "outputs": [
    {
     "data": {
      "text/plain": [
       "DecisionTreeClassifier()"
      ]
     },
     "execution_count": 32,
     "metadata": {},
     "output_type": "execute_result"
    }
   ],
   "source": [
    "# Train the classifier on the training data\n",
    "clf.fit(X_train, y_train)\n"
   ]
  },
  {
   "cell_type": "markdown",
   "id": "6cd8a308",
   "metadata": {},
   "source": [
    "#### Predicting  "
   ]
  },
  {
   "cell_type": "code",
   "execution_count": 33,
   "id": "46c13588",
   "metadata": {},
   "outputs": [],
   "source": [
    "#predicting using the Sopprting Vector Machine\n",
    "predicted= support.predict(X_test)\n"
   ]
  },
  {
   "cell_type": "code",
   "execution_count": 34,
   "id": "9821eefb",
   "metadata": {},
   "outputs": [],
   "source": [
    "#prediction using the Decision Tree Classifier\n",
    "predicted1= clf.predict(X_test)\n"
   ]
  },
  {
   "cell_type": "code",
   "execution_count": 35,
   "id": "f851f4df",
   "metadata": {},
   "outputs": [
    {
     "name": "stdout",
     "output_type": "stream",
     "text": [
      "Your Model Accuracy is 0.5\n"
     ]
    }
   ],
   "source": [
    "#Decision Tree Classifier Prediction\n",
    "score=accuracy_score(y_test,predicted)\n",
    "print(\"Your Model Accuracy is\", score)\n",
    "#rain.to_csv( \"pred.csv\")"
   ]
  },
  {
   "cell_type": "code",
   "execution_count": 36,
   "id": "ba94a999",
   "metadata": {},
   "outputs": [
    {
     "name": "stdout",
     "output_type": "stream",
     "text": [
      "Your Model Accuracy is 0.5\n"
     ]
    }
   ],
   "source": [
    "#Prediction for Supporting Vector machine\n",
    "score=accuracy_score(y_test,predicted1)\n",
    "print(\"Your Model Accuracy is\", score)\n",
    "#rain.to_csv( \"pred.csv\")"
   ]
  },
  {
   "cell_type": "markdown",
   "id": "08cc09eb",
   "metadata": {},
   "source": [
    "### Defining GradientBoost classifier"
   ]
  },
  {
   "cell_type": "code",
   "execution_count": 37,
   "id": "efec212e",
   "metadata": {},
   "outputs": [],
   "source": [
    "# Import all relevant libraries\n",
    "from sklearn.ensemble import GradientBoostingClassifier\n",
    "from sklearn.model_selection import train_test_split \n",
    "from sklearn.metrics import accuracy_score, confusion_matrix  "
   ]
  },
  {
   "cell_type": "code",
   "execution_count": 38,
   "id": "b8615849",
   "metadata": {},
   "outputs": [],
   "source": [
    "# Define Gradient Boosting Classifier with hyperparameters\n",
    "gboostclass = GradientBoostingClassifier(n_estimators=500,learning_rate=0.05,random_state=10,max_features=5 )\n"
   ]
  },
  {
   "cell_type": "code",
   "execution_count": 39,
   "id": "0bad3fcc",
   "metadata": {},
   "outputs": [
    {
     "data": {
      "text/plain": [
       "GradientBoostingClassifier(learning_rate=0.05, max_features=5, n_estimators=500,\n",
       "                           random_state=10)"
      ]
     },
     "execution_count": 39,
     "metadata": {},
     "output_type": "execute_result"
    }
   ],
   "source": [
    "# Fit train data to GBC\n",
    "\n",
    "gboostclass.fit(X_train,y_train)"
   ]
  },
  {
   "cell_type": "code",
   "execution_count": 40,
   "id": "3d14cd2b",
   "metadata": {},
   "outputs": [],
   "source": [
    "predicted2 = gboostclass.predict(X_test)\n"
   ]
  },
  {
   "cell_type": "code",
   "execution_count": 41,
   "id": "6f18e364",
   "metadata": {},
   "outputs": [
    {
     "name": "stdout",
     "output_type": "stream",
     "text": [
      "Your Model Accuracy is 1.0\n"
     ]
    }
   ],
   "source": [
    "score=accuracy_score(y_test,predicted2)\n",
    "print(\"Your Model Accuracy is\", score)"
   ]
  },
  {
   "cell_type": "code",
   "execution_count": 42,
   "id": "a919bb8f",
   "metadata": {},
   "outputs": [
    {
     "name": "stdout",
     "output_type": "stream",
     "text": [
      "[[1 0]\n",
      " [0 1]]\n"
     ]
    }
   ],
   "source": [
    "# Confusion matrix will give number of correct and incorrect classifications\n",
    "print(confusion_matrix(y_test, gboostclass.predict(X_test)))"
   ]
  },
  {
   "cell_type": "code",
   "execution_count": 43,
   "id": "9208a3c8",
   "metadata": {},
   "outputs": [
    {
     "name": "stdout",
     "output_type": "stream",
     "text": [
      "[[0 1]\n",
      " [0 1]]\n"
     ]
    }
   ],
   "source": [
    "# Confusion matrix will give number of correct and incorrect classifications\n",
    "print(confusion_matrix(y_test, clf.predict(X_test)))"
   ]
  },
  {
   "cell_type": "code",
   "execution_count": 44,
   "id": "55bb0fd3",
   "metadata": {},
   "outputs": [
    {
     "name": "stdout",
     "output_type": "stream",
     "text": [
      "[[0 1 0]\n",
      " [0 0 0]\n",
      " [0 0 1]]\n"
     ]
    }
   ],
   "source": [
    "# Confusion matrix will give number of correct and incorrect classifications\n",
    "print(confusion_matrix(y_test, support.predict(X_test)))"
   ]
  },
  {
   "cell_type": "code",
   "execution_count": 45,
   "id": "22ab22d8",
   "metadata": {},
   "outputs": [
    {
     "name": "stdout",
     "output_type": "stream",
     "text": [
      "SVM accuracy is 0.50\n"
     ]
    }
   ],
   "source": [
    "\n",
    "print(\"SVM accuracy is %2.2f\" % accuracy_score( \n",
    "     y_test, support.predict(X_test)))\n"
   ]
  },
  {
   "cell_type": "code",
   "execution_count": 46,
   "id": "3a1fb993",
   "metadata": {},
   "outputs": [
    {
     "name": "stdout",
     "output_type": "stream",
     "text": [
      "Decision Tree Classifier accuracy is 0.50\n"
     ]
    }
   ],
   "source": [
    "\n",
    "print(\"Decision Tree Classifier accuracy is %2.2f\" % accuracy_score( \n",
    "     y_test, clf.predict(X_test)))\n"
   ]
  },
  {
   "cell_type": "code",
   "execution_count": 47,
   "id": "50f1b8de",
   "metadata": {},
   "outputs": [
    {
     "name": "stdout",
     "output_type": "stream",
     "text": [
      "SVM accuracy is 1.00\n"
     ]
    }
   ],
   "source": [
    "\n",
    "print(\"SVM accuracy is %2.2f\" % accuracy_score( \n",
    "     y_test, gboostclass.predict(X_test)))\n"
   ]
  },
  {
   "cell_type": "code",
   "execution_count": 48,
   "id": "37b511a4",
   "metadata": {},
   "outputs": [
    {
     "name": "stdout",
     "output_type": "stream",
     "text": [
      "              precision    recall  f1-score   support\n",
      "\n",
      "           1       1.00      1.00      1.00         1\n",
      "           3       1.00      1.00      1.00         1\n",
      "\n",
      "    accuracy                           1.00         2\n",
      "   macro avg       1.00      1.00      1.00         2\n",
      "weighted avg       1.00      1.00      1.00         2\n",
      "\n"
     ]
    }
   ],
   "source": [
    "#classification report for gradiebtBoost Classifier\n",
    "from sklearn.metrics import classification_report\n",
    "pred=gboostclass.predict(X_test)\n",
    "print(classification_report(y_test, pred))"
   ]
  },
  {
   "cell_type": "code",
   "execution_count": 49,
   "id": "36e0cd98",
   "metadata": {},
   "outputs": [
    {
     "name": "stdout",
     "output_type": "stream",
     "text": [
      "              precision    recall  f1-score   support\n",
      "\n",
      "           1       0.00      0.00      0.00         1\n",
      "           3       0.50      1.00      0.67         1\n",
      "\n",
      "    accuracy                           0.50         2\n",
      "   macro avg       0.25      0.50      0.33         2\n",
      "weighted avg       0.25      0.50      0.33         2\n",
      "\n"
     ]
    }
   ],
   "source": [
    "#classification report report for Decision Tree Classifier\n",
    "from sklearn.metrics import classification_report\n",
    "pred=clf.predict(X_test)\n",
    "print(classification_report(y_test, pred))"
   ]
  },
  {
   "cell_type": "code",
   "execution_count": 50,
   "id": "48550ba2",
   "metadata": {},
   "outputs": [
    {
     "name": "stdout",
     "output_type": "stream",
     "text": [
      "              precision    recall  f1-score   support\n",
      "\n",
      "           1       0.00      0.00      0.00         1\n",
      "           2       0.00      0.00      0.00         0\n",
      "           3       1.00      1.00      1.00         1\n",
      "\n",
      "    accuracy                           0.50         2\n",
      "   macro avg       0.33      0.33      0.33         2\n",
      "weighted avg       0.50      0.50      0.50         2\n",
      "\n"
     ]
    }
   ],
   "source": [
    "#classification report for Support Vector Mechine\n",
    "from sklearn.metrics import classification_report\n",
    "pred=support.predict(X_test)\n",
    "print(classification_report(y_test, pred))"
   ]
  },
  {
   "cell_type": "code",
   "execution_count": 61,
   "id": "e60c029a",
   "metadata": {},
   "outputs": [
    {
     "name": "stdout",
     "output_type": "stream",
     "text": [
      "Collecting wordcloud\n",
      "  Downloading wordcloud-1.9.3-cp38-cp38-win_amd64.whl (300 kB)\n",
      "Requirement already satisfied: pillow in c:\\programdata\\anaconda3\\lib\\site-packages (from wordcloud) (8.2.0)\n",
      "Requirement already satisfied: matplotlib in c:\\programdata\\anaconda3\\lib\\site-packages (from wordcloud) (3.3.4)\n",
      "Requirement already satisfied: numpy>=1.6.1 in c:\\programdata\\anaconda3\\lib\\site-packages (from wordcloud) (1.20.1)\n",
      "Requirement already satisfied: pyparsing!=2.0.4,!=2.1.2,!=2.1.6,>=2.0.3 in c:\\programdata\\anaconda3\\lib\\site-packages (from matplotlib->wordcloud) (2.4.7)\n",
      "Requirement already satisfied: python-dateutil>=2.1 in c:\\programdata\\anaconda3\\lib\\site-packages (from matplotlib->wordcloud) (2.8.1)\n",
      "Requirement already satisfied: cycler>=0.10 in c:\\programdata\\anaconda3\\lib\\site-packages (from matplotlib->wordcloud) (0.10.0)\n",
      "Requirement already satisfied: kiwisolver>=1.0.1 in c:\\programdata\\anaconda3\\lib\\site-packages (from matplotlib->wordcloud) (1.3.1)\n",
      "Requirement already satisfied: six in c:\\programdata\\anaconda3\\lib\\site-packages (from cycler>=0.10->matplotlib->wordcloud) (1.15.0)\n",
      "Installing collected packages: wordcloud\n",
      "Successfully installed wordcloud-1.9.3\n",
      "Note: you may need to restart the kernel to use updated packages.\n"
     ]
    }
   ],
   "source": [
    "pip install wordcloud\n"
   ]
  },
  {
   "cell_type": "code",
   "execution_count": 63,
   "id": "e6c4a07c",
   "metadata": {},
   "outputs": [
    {
     "name": "stdout",
     "output_type": "stream",
     "text": [
      "Requirement already satisfied: matplotlib in c:\\programdata\\anaconda3\\lib\\site-packages (3.3.4)\n",
      "Requirement already satisfied: pyparsing!=2.0.4,!=2.1.2,!=2.1.6,>=2.0.3 in c:\\programdata\\anaconda3\\lib\\site-packages (from matplotlib) (2.4.7)\n",
      "Requirement already satisfied: numpy>=1.15 in c:\\programdata\\anaconda3\\lib\\site-packages (from matplotlib) (1.20.1)\n",
      "Requirement already satisfied: cycler>=0.10 in c:\\programdata\\anaconda3\\lib\\site-packages (from matplotlib) (0.10.0)\n",
      "Requirement already satisfied: python-dateutil>=2.1 in c:\\programdata\\anaconda3\\lib\\site-packages (from matplotlib) (2.8.1)\n",
      "Requirement already satisfied: pillow>=6.2.0 in c:\\programdata\\anaconda3\\lib\\site-packages (from matplotlib) (8.2.0)\n",
      "Requirement already satisfied: kiwisolver>=1.0.1 in c:\\programdata\\anaconda3\\lib\\site-packages (from matplotlib) (1.3.1)\n",
      "Requirement already satisfied: six in c:\\programdata\\anaconda3\\lib\\site-packages (from cycler>=0.10->matplotlib) (1.15.0)\n"
     ]
    }
   ],
   "source": [
    "!pip install matplotlib\n",
    "\n"
   ]
  },
  {
   "cell_type": "code",
   "execution_count": null,
   "id": "61250237",
   "metadata": {},
   "outputs": [],
   "source": []
  },
  {
   "cell_type": "code",
   "execution_count": null,
   "id": "67c31093",
   "metadata": {},
   "outputs": [],
   "source": []
  },
  {
   "cell_type": "code",
   "execution_count": 51,
   "id": "bcfae8ec",
   "metadata": {},
   "outputs": [
    {
     "data": {
      "text/html": [
       "<div>\n",
       "<style scoped>\n",
       "    .dataframe tbody tr th:only-of-type {\n",
       "        vertical-align: middle;\n",
       "    }\n",
       "\n",
       "    .dataframe tbody tr th {\n",
       "        vertical-align: top;\n",
       "    }\n",
       "\n",
       "    .dataframe thead th {\n",
       "        text-align: right;\n",
       "    }\n",
       "</style>\n",
       "<table border=\"1\" class=\"dataframe\">\n",
       "  <thead>\n",
       "    <tr style=\"text-align: right;\">\n",
       "      <th></th>\n",
       "      <th>loves people</th>\n",
       "      <th>hard to motivate</th>\n",
       "      <th>Avoid crisis</th>\n",
       "      <th>Are you social</th>\n",
       "      <th>Talkative</th>\n",
       "      <th>Forgetful</th>\n",
       "      <th>organized</th>\n",
       "      <th>Quick to judge</th>\n",
       "      <th>like to be alone</th>\n",
       "      <th>Personality</th>\n",
       "    </tr>\n",
       "  </thead>\n",
       "  <tbody>\n",
       "    <tr>\n",
       "      <th>0</th>\n",
       "      <td>2</td>\n",
       "      <td>0</td>\n",
       "      <td>2</td>\n",
       "      <td>1</td>\n",
       "      <td>2</td>\n",
       "      <td>2</td>\n",
       "      <td>1</td>\n",
       "      <td>0</td>\n",
       "      <td>1</td>\n",
       "      <td>3</td>\n",
       "    </tr>\n",
       "    <tr>\n",
       "      <th>1</th>\n",
       "      <td>1</td>\n",
       "      <td>2</td>\n",
       "      <td>1</td>\n",
       "      <td>1</td>\n",
       "      <td>1</td>\n",
       "      <td>1</td>\n",
       "      <td>1</td>\n",
       "      <td>2</td>\n",
       "      <td>1</td>\n",
       "      <td>3</td>\n",
       "    </tr>\n",
       "    <tr>\n",
       "      <th>2</th>\n",
       "      <td>0</td>\n",
       "      <td>1</td>\n",
       "      <td>0</td>\n",
       "      <td>0</td>\n",
       "      <td>1</td>\n",
       "      <td>2</td>\n",
       "      <td>2</td>\n",
       "      <td>1</td>\n",
       "      <td>0</td>\n",
       "      <td>0</td>\n",
       "    </tr>\n",
       "    <tr>\n",
       "      <th>3</th>\n",
       "      <td>2</td>\n",
       "      <td>0</td>\n",
       "      <td>2</td>\n",
       "      <td>1</td>\n",
       "      <td>2</td>\n",
       "      <td>2</td>\n",
       "      <td>1</td>\n",
       "      <td>2</td>\n",
       "      <td>1</td>\n",
       "      <td>3</td>\n",
       "    </tr>\n",
       "    <tr>\n",
       "      <th>4</th>\n",
       "      <td>1</td>\n",
       "      <td>0</td>\n",
       "      <td>1</td>\n",
       "      <td>0</td>\n",
       "      <td>2</td>\n",
       "      <td>2</td>\n",
       "      <td>1</td>\n",
       "      <td>0</td>\n",
       "      <td>2</td>\n",
       "      <td>1</td>\n",
       "    </tr>\n",
       "    <tr>\n",
       "      <th>5</th>\n",
       "      <td>1</td>\n",
       "      <td>0</td>\n",
       "      <td>1</td>\n",
       "      <td>1</td>\n",
       "      <td>2</td>\n",
       "      <td>1</td>\n",
       "      <td>1</td>\n",
       "      <td>2</td>\n",
       "      <td>2</td>\n",
       "      <td>3</td>\n",
       "    </tr>\n",
       "    <tr>\n",
       "      <th>6</th>\n",
       "      <td>1</td>\n",
       "      <td>2</td>\n",
       "      <td>1</td>\n",
       "      <td>1</td>\n",
       "      <td>1</td>\n",
       "      <td>0</td>\n",
       "      <td>1</td>\n",
       "      <td>0</td>\n",
       "      <td>0</td>\n",
       "      <td>1</td>\n",
       "    </tr>\n",
       "    <tr>\n",
       "      <th>7</th>\n",
       "      <td>1</td>\n",
       "      <td>0</td>\n",
       "      <td>2</td>\n",
       "      <td>1</td>\n",
       "      <td>0</td>\n",
       "      <td>2</td>\n",
       "      <td>2</td>\n",
       "      <td>0</td>\n",
       "      <td>1</td>\n",
       "      <td>2</td>\n",
       "    </tr>\n",
       "    <tr>\n",
       "      <th>8</th>\n",
       "      <td>1</td>\n",
       "      <td>0</td>\n",
       "      <td>2</td>\n",
       "      <td>0</td>\n",
       "      <td>0</td>\n",
       "      <td>0</td>\n",
       "      <td>1</td>\n",
       "      <td>0</td>\n",
       "      <td>2</td>\n",
       "      <td>2</td>\n",
       "    </tr>\n",
       "    <tr>\n",
       "      <th>9</th>\n",
       "      <td>1</td>\n",
       "      <td>1</td>\n",
       "      <td>2</td>\n",
       "      <td>0</td>\n",
       "      <td>1</td>\n",
       "      <td>0</td>\n",
       "      <td>1</td>\n",
       "      <td>1</td>\n",
       "      <td>1</td>\n",
       "      <td>1</td>\n",
       "    </tr>\n",
       "    <tr>\n",
       "      <th>10</th>\n",
       "      <td>1</td>\n",
       "      <td>2</td>\n",
       "      <td>1</td>\n",
       "      <td>1</td>\n",
       "      <td>2</td>\n",
       "      <td>0</td>\n",
       "      <td>1</td>\n",
       "      <td>0</td>\n",
       "      <td>1</td>\n",
       "      <td>1</td>\n",
       "    </tr>\n",
       "    <tr>\n",
       "      <th>11</th>\n",
       "      <td>1</td>\n",
       "      <td>0</td>\n",
       "      <td>1</td>\n",
       "      <td>0</td>\n",
       "      <td>1</td>\n",
       "      <td>1</td>\n",
       "      <td>0</td>\n",
       "      <td>0</td>\n",
       "      <td>0</td>\n",
       "      <td>2</td>\n",
       "    </tr>\n",
       "  </tbody>\n",
       "</table>\n",
       "</div>"
      ],
      "text/plain": [
       "    loves people  hard to motivate  Avoid crisis  Are you social  Talkative  \\\n",
       "0              2                 0             2               1          2   \n",
       "1              1                 2             1               1          1   \n",
       "2              0                 1             0               0          1   \n",
       "3              2                 0             2               1          2   \n",
       "4              1                 0             1               0          2   \n",
       "5              1                 0             1               1          2   \n",
       "6              1                 2             1               1          1   \n",
       "7              1                 0             2               1          0   \n",
       "8              1                 0             2               0          0   \n",
       "9              1                 1             2               0          1   \n",
       "10             1                 2             1               1          2   \n",
       "11             1                 0             1               0          1   \n",
       "\n",
       "    Forgetful  organized  Quick to judge  like to be alone  Personality  \n",
       "0           2          1               0                 1            3  \n",
       "1           1          1               2                 1            3  \n",
       "2           2          2               1                 0            0  \n",
       "3           2          1               2                 1            3  \n",
       "4           2          1               0                 2            1  \n",
       "5           1          1               2                 2            3  \n",
       "6           0          1               0                 0            1  \n",
       "7           2          2               0                 1            2  \n",
       "8           0          1               0                 2            2  \n",
       "9           0          1               1                 1            1  \n",
       "10          0          1               0                 1            1  \n",
       "11          1          0               0                 0            2  "
      ]
     },
     "execution_count": 51,
     "metadata": {},
     "output_type": "execute_result"
    }
   ],
   "source": [
    "data2\n"
   ]
  },
  {
   "cell_type": "code",
   "execution_count": null,
   "id": "2ecadab2",
   "metadata": {},
   "outputs": [],
   "source": []
  },
  {
   "cell_type": "code",
   "execution_count": null,
   "id": "b5a63e58",
   "metadata": {},
   "outputs": [],
   "source": []
  },
  {
   "cell_type": "code",
   "execution_count": 86,
   "id": "5eccb837",
   "metadata": {},
   "outputs": [],
   "source": [
    "#Error\n",
    "# Model training\n",
    "#data2.fit(X_train,y_train)\n",
    "#data2_scaled.fit(X_train_scaled,y_train)\n",
    "\n"
   ]
  },
  {
   "cell_type": "code",
   "execution_count": null,
   "id": "748feb41",
   "metadata": {},
   "outputs": [],
   "source": [
    "#X_train, X_test, y_train, y_test = train_test_split(data2.drop(\"Personality\",1),data2[\"Personality\"], test_size=0.1, random_state=2)\n",
    "\n",
    "#X_train, X_test_, y_train, y_test = train_test_split(data2.drop(\"Personality\",1),data2[\"Personality\"], test_size=0.1, random_state=2)"
   ]
  },
  {
   "cell_type": "code",
   "execution_count": 53,
   "id": "9f531985",
   "metadata": {},
   "outputs": [],
   "source": [
    "'''from sklearn.tree import DecisionTreeClassifier\n",
    "\n",
    "data3 = DecisionTreeClassifier()\n",
    "data3_scaled = DecisionTreeClassifier()\n",
    "\n",
    "data3.fit(X_train,y_train)\n",
    "data3_scaled.fit(X_train_scaled,y_train)\n",
    "\n",
    "y_pred = data3.predict(X_test)\n",
    "y_pred_scaled = data3_scaled.predict(X_test_scaled)\n",
    "\n",
    "print(\"Actual\",accuracy_score(y_test,y_pred))\n",
    "print(\"Scaled\",accuracy_score(y_test,y_pred_scaled))'''\n",
    "\n",
    "from sklearn.preprocessing import StandardScaler\n",
    "\n",
    "# Create a StandardScaler object\n",
    "scaler = StandardScaler()\n",
    "\n",
    "# Fit and transform the training data\n",
    "X_train_scaled = scaler.fit_transform(X_train)\n",
    "\n",
    "# Transform the test data using the same scaler\n",
    "X_test_scaled = scaler.transform(X_test)"
   ]
  },
  {
   "cell_type": "code",
   "execution_count": 52,
   "id": "664235f9",
   "metadata": {},
   "outputs": [
    {
     "ename": "NameError",
     "evalue": "name 'data3_scaled' is not defined",
     "output_type": "error",
     "traceback": [
      "\u001b[1;31m---------------------------------------------------------------------------\u001b[0m",
      "\u001b[1;31mNameError\u001b[0m                                 Traceback (most recent call last)",
      "\u001b[1;32m<ipython-input-52-89c453422f2b>\u001b[0m in \u001b[0;36m<module>\u001b[1;34m\u001b[0m\n\u001b[0;32m      1\u001b[0m \u001b[1;31m# Fit the scaled training data to the 'data3_scaled' model\u001b[0m\u001b[1;33m\u001b[0m\u001b[1;33m\u001b[0m\u001b[1;33m\u001b[0m\u001b[0m\n\u001b[1;32m----> 2\u001b[1;33m \u001b[0mdata3_scaled\u001b[0m\u001b[1;33m.\u001b[0m\u001b[0mfit\u001b[0m\u001b[1;33m(\u001b[0m\u001b[0mX_train_scaled\u001b[0m\u001b[1;33m,\u001b[0m \u001b[0my_train\u001b[0m\u001b[1;33m)\u001b[0m\u001b[1;33m\u001b[0m\u001b[1;33m\u001b[0m\u001b[0m\n\u001b[0m",
      "\u001b[1;31mNameError\u001b[0m: name 'data3_scaled' is not defined"
     ]
    }
   ],
   "source": [
    "# Fit the scaled training data to the 'data3_scaled' model\n",
    "data3_scaled.fit(X_train_scaled, y_train)"
   ]
  },
  {
   "cell_type": "code",
   "execution_count": 109,
   "id": "d1853c74",
   "metadata": {},
   "outputs": [],
   "source": [
    "# Make predictions on the scaled test data\n",
    "y_pred = data3_scaled.predict(X_test_scaled)\n"
   ]
  },
  {
   "cell_type": "code",
   "execution_count": 110,
   "id": "7362b654",
   "metadata": {},
   "outputs": [
    {
     "data": {
      "text/plain": [
       "array([2, 3])"
      ]
     },
     "execution_count": 110,
     "metadata": {},
     "output_type": "execute_result"
    }
   ],
   "source": [
    "y_pred"
   ]
  },
  {
   "cell_type": "code",
   "execution_count": 108,
   "id": "a7d4f357",
   "metadata": {},
   "outputs": [
    {
     "name": "stdout",
     "output_type": "stream",
     "text": [
      "Scaled 1.0\n",
      "Actual 1.0\n"
     ]
    }
   ],
   "source": [
    "print(\"Scaled\",accuracy_score(y_test,y_pred))\n",
    "print(\"Actual\",accuracy_score(y_test,y_pred))\n"
   ]
  },
  {
   "cell_type": "code",
   "execution_count": 112,
   "id": "601eb1b6",
   "metadata": {},
   "outputs": [],
   "source": [
    "# Make predictions on the scaled test data using the 'data3_scaled' model\n",
    "#y_pred_scaled = data3_scaled.predict(X_test_scaled)"
   ]
  },
  {
   "cell_type": "code",
   "execution_count": 113,
   "id": "a29357a8",
   "metadata": {},
   "outputs": [],
   "source": [
    "# Make predictions on the original test data using the 'data3' model\n",
    "#y_pred = data3.predict(X_test)"
   ]
  },
  {
   "cell_type": "code",
   "execution_count": 54,
   "id": "e48eec37",
   "metadata": {},
   "outputs": [
    {
     "ename": "NameError",
     "evalue": "name 'data3_scaled' is not defined",
     "output_type": "error",
     "traceback": [
      "\u001b[1;31m---------------------------------------------------------------------------\u001b[0m",
      "\u001b[1;31mNameError\u001b[0m                                 Traceback (most recent call last)",
      "\u001b[1;32m<ipython-input-54-af31408be8c1>\u001b[0m in \u001b[0;36m<module>\u001b[1;34m\u001b[0m\n\u001b[0;32m      1\u001b[0m \u001b[1;31m# Fit the scaled training data to the 'data3_scaled' model\u001b[0m\u001b[1;33m\u001b[0m\u001b[1;33m\u001b[0m\u001b[1;33m\u001b[0m\u001b[0m\n\u001b[1;32m----> 2\u001b[1;33m \u001b[0mdata3_scaled\u001b[0m\u001b[1;33m.\u001b[0m\u001b[0mfit\u001b[0m\u001b[1;33m(\u001b[0m\u001b[0mX_train_scaled\u001b[0m\u001b[1;33m,\u001b[0m \u001b[0my_train\u001b[0m\u001b[1;33m)\u001b[0m\u001b[1;33m\u001b[0m\u001b[1;33m\u001b[0m\u001b[0m\n\u001b[0m\u001b[0;32m      3\u001b[0m \u001b[1;33m\u001b[0m\u001b[0m\n\u001b[0;32m      4\u001b[0m \u001b[1;31m# Make predictions on the scaled test data using the 'data3_scaled' model\u001b[0m\u001b[1;33m\u001b[0m\u001b[1;33m\u001b[0m\u001b[1;33m\u001b[0m\u001b[0m\n\u001b[0;32m      5\u001b[0m \u001b[0my_pred_scaled\u001b[0m \u001b[1;33m=\u001b[0m \u001b[0mdata3_scaled\u001b[0m\u001b[1;33m.\u001b[0m\u001b[0mpredict\u001b[0m\u001b[1;33m(\u001b[0m\u001b[0mX_test_scaled\u001b[0m\u001b[1;33m)\u001b[0m\u001b[1;33m\u001b[0m\u001b[1;33m\u001b[0m\u001b[0m\n",
      "\u001b[1;31mNameError\u001b[0m: name 'data3_scaled' is not defined"
     ]
    }
   ],
   "source": [
    "# Fit the scaled training data to the 'data3_scaled' model\n",
    "data3_scaled.fit(X_train_scaled, y_train)\n",
    "\n",
    "# Make predictions on the scaled test data using the 'data3_scaled' model\n",
    "y_pred_scaled = data3_scaled.predict(X_test_scaled)"
   ]
  },
  {
   "cell_type": "code",
   "execution_count": 115,
   "id": "1a5e132e",
   "metadata": {},
   "outputs": [
    {
     "name": "stdout",
     "output_type": "stream",
     "text": [
      "Your Model Accuracy is 0.5\n"
     ]
    }
   ],
   "source": [
    "score=accuracy_score(y_test,y_pred_scaled)\n",
    "print(\"Your Model Accuracy is\", score)"
   ]
  },
  {
   "cell_type": "markdown",
   "id": "98d06b8c",
   "metadata": {},
   "source": [
    "#### Creating a pickle file for our Model "
   ]
  },
  {
   "cell_type": "code",
   "execution_count": 55,
   "id": "8bc6d162",
   "metadata": {},
   "outputs": [],
   "source": [
    "#Make a pickle file for my model\n",
    "import pickle\n",
    "\n",
    "pickle.dump(clf,open(\"personality.pkl\",\"wb\"))"
   ]
  },
  {
   "cell_type": "markdown",
   "id": "d4f09164",
   "metadata": {},
   "source": [
    "# visualization"
   ]
  },
  {
   "cell_type": "code",
   "execution_count": 56,
   "id": "6d772f82",
   "metadata": {},
   "outputs": [
    {
     "data": {
      "image/png": "[encoded data removed]",
      "text/plain": [
       "<Figure size 648x576 with 2 Axes>"
      ]
     },
     "metadata": {
      "needs_background": "light"
     },
     "output_type": "display_data"
    }
   ],
   "source": [
    "import matplotlib.pyplot as plt\n",
    "import seaborn as sns\n",
    "\n",
    "# Load the dataset\n",
    "#data2 = sns.load_dataset(\"flights\")\n",
    "\n",
    "# Create a figure with the desired size\n",
    "fig, ax = plt.subplots(figsize=(9, 8))\n",
    "\n",
    "# Create the heatmap\n",
    "sns.heatmap(data2.corr(), annot=True, cmap='coolwarm', square=True, ax=ax)\n",
    "\n",
    "# Show the plot\n",
    "plt.show()\n",
    "\n"
   ]
  },
  {
   "cell_type": "code",
   "execution_count": 92,
   "id": "2b90b30b",
   "metadata": {},
   "outputs": [
    {
     "data": {
      "text/html": [
       "<div>\n",
       "<style scoped>\n",
       "    .dataframe tbody tr th:only-of-type {\n",
       "        vertical-align: middle;\n",
       "    }\n",
       "\n",
       "    .dataframe tbody tr th {\n",
       "        vertical-align: top;\n",
       "    }\n",
       "\n",
       "    .dataframe thead th {\n",
       "        text-align: right;\n",
       "    }\n",
       "</style>\n",
       "<table border=\"1\" class=\"dataframe\">\n",
       "  <thead>\n",
       "    <tr style=\"text-align: right;\">\n",
       "      <th></th>\n",
       "      <th>loves people</th>\n",
       "      <th>hard to motivate</th>\n",
       "      <th>Avoid crisis</th>\n",
       "      <th>Are you social</th>\n",
       "      <th>Talkative</th>\n",
       "      <th>Forgetful</th>\n",
       "      <th>organized</th>\n",
       "      <th>Quick to judge</th>\n",
       "      <th>like to be alone</th>\n",
       "      <th>Personality</th>\n",
       "    </tr>\n",
       "  </thead>\n",
       "  <tbody>\n",
       "    <tr>\n",
       "      <th>loves people</th>\n",
       "      <td>1.000000</td>\n",
       "      <td>-3.314968e-01</td>\n",
       "      <td>0.722806</td>\n",
       "      <td>4.857143e-01</td>\n",
       "      <td>4.098780e-01</td>\n",
       "      <td>1.797491e-01</td>\n",
       "      <td>-3.714286e-01</td>\n",
       "      <td>0.066299</td>\n",
       "      <td>2.390457e-01</td>\n",
       "      <td>0.714286</td>\n",
       "    </tr>\n",
       "    <tr>\n",
       "      <th>hard to motivate</th>\n",
       "      <td>-0.331497</td>\n",
       "      <td>1.000000e+00</td>\n",
       "      <td>-0.419314</td>\n",
       "      <td>2.651974e-01</td>\n",
       "      <td>1.508496e-17</td>\n",
       "      <td>-5.308593e-01</td>\n",
       "      <td>6.629935e-02</td>\n",
       "      <td>0.076923</td>\n",
       "      <td>-4.160251e-01</td>\n",
       "      <td>-0.364646</td>\n",
       "    </tr>\n",
       "    <tr>\n",
       "      <th>Avoid crisis</th>\n",
       "      <td>0.722806</td>\n",
       "      <td>-4.193139e-01</td>\n",
       "      <td>1.000000</td>\n",
       "      <td>1.807016e-01</td>\n",
       "      <td>-1.851640e-01</td>\n",
       "      <td>-5.167424e-02</td>\n",
       "      <td>-9.035079e-02</td>\n",
       "      <td>-0.104828</td>\n",
       "      <td>3.779645e-01</td>\n",
       "      <td>0.496929</td>\n",
       "    </tr>\n",
       "    <tr>\n",
       "      <th>Are you social</th>\n",
       "      <td>0.485714</td>\n",
       "      <td>2.651974e-01</td>\n",
       "      <td>0.180702</td>\n",
       "      <td>1.000000e+00</td>\n",
       "      <td>2.927700e-01</td>\n",
       "      <td>8.170415e-02</td>\n",
       "      <td>1.428571e-01</td>\n",
       "      <td>0.265197</td>\n",
       "      <td>2.653941e-17</td>\n",
       "      <td>0.542857</td>\n",
       "    </tr>\n",
       "    <tr>\n",
       "      <th>Talkative</th>\n",
       "      <td>0.409878</td>\n",
       "      <td>1.508496e-17</td>\n",
       "      <td>-0.185164</td>\n",
       "      <td>2.927700e-01</td>\n",
       "      <td>1.000000e+00</td>\n",
       "      <td>2.344211e-01</td>\n",
       "      <td>-2.927700e-01</td>\n",
       "      <td>0.271746</td>\n",
       "      <td>1.632993e-01</td>\n",
       "      <td>0.175662</td>\n",
       "    </tr>\n",
       "    <tr>\n",
       "      <th>Forgetful</th>\n",
       "      <td>0.179749</td>\n",
       "      <td>-5.308593e-01</td>\n",
       "      <td>-0.051674</td>\n",
       "      <td>8.170415e-02</td>\n",
       "      <td>2.344211e-01</td>\n",
       "      <td>1.000000e+00</td>\n",
       "      <td>3.758391e-01</td>\n",
       "      <td>0.151674</td>\n",
       "      <td>3.794664e-17</td>\n",
       "      <td>0.212431</td>\n",
       "    </tr>\n",
       "    <tr>\n",
       "      <th>organized</th>\n",
       "      <td>-0.371429</td>\n",
       "      <td>6.629935e-02</td>\n",
       "      <td>-0.090351</td>\n",
       "      <td>1.428571e-01</td>\n",
       "      <td>-2.927700e-01</td>\n",
       "      <td>3.758391e-01</td>\n",
       "      <td>1.000000e+00</td>\n",
       "      <td>0.066299</td>\n",
       "      <td>5.307881e-17</td>\n",
       "      <td>-0.314286</td>\n",
       "    </tr>\n",
       "    <tr>\n",
       "      <th>Quick to judge</th>\n",
       "      <td>0.066299</td>\n",
       "      <td>7.692308e-02</td>\n",
       "      <td>-0.104828</td>\n",
       "      <td>2.651974e-01</td>\n",
       "      <td>2.717465e-01</td>\n",
       "      <td>1.516741e-01</td>\n",
       "      <td>6.629935e-02</td>\n",
       "      <td>1.000000</td>\n",
       "      <td>1.386750e-01</td>\n",
       "      <td>0.430946</td>\n",
       "    </tr>\n",
       "    <tr>\n",
       "      <th>like to be alone</th>\n",
       "      <td>0.239046</td>\n",
       "      <td>-4.160251e-01</td>\n",
       "      <td>0.377964</td>\n",
       "      <td>2.653941e-17</td>\n",
       "      <td>1.632993e-01</td>\n",
       "      <td>3.794664e-17</td>\n",
       "      <td>5.307881e-17</td>\n",
       "      <td>0.138675</td>\n",
       "      <td>1.000000e+00</td>\n",
       "      <td>0.358569</td>\n",
       "    </tr>\n",
       "    <tr>\n",
       "      <th>Personality</th>\n",
       "      <td>0.714286</td>\n",
       "      <td>-3.646464e-01</td>\n",
       "      <td>0.496929</td>\n",
       "      <td>5.428571e-01</td>\n",
       "      <td>1.756620e-01</td>\n",
       "      <td>2.124308e-01</td>\n",
       "      <td>-3.142857e-01</td>\n",
       "      <td>0.430946</td>\n",
       "      <td>3.585686e-01</td>\n",
       "      <td>1.000000</td>\n",
       "    </tr>\n",
       "  </tbody>\n",
       "</table>\n",
       "</div>"
      ],
      "text/plain": [
       "                  loves people  hard to motivate  Avoid crisis  \\\n",
       "loves people          1.000000     -3.314968e-01      0.722806   \n",
       "hard to motivate     -0.331497      1.000000e+00     -0.419314   \n",
       "Avoid crisis          0.722806     -4.193139e-01      1.000000   \n",
       "Are you social        0.485714      2.651974e-01      0.180702   \n",
       "Talkative             0.409878      1.508496e-17     -0.185164   \n",
       "Forgetful             0.179749     -5.308593e-01     -0.051674   \n",
       "organized            -0.371429      6.629935e-02     -0.090351   \n",
       "Quick to judge        0.066299      7.692308e-02     -0.104828   \n",
       "like to be alone      0.239046     -4.160251e-01      0.377964   \n",
       "Personality           0.714286     -3.646464e-01      0.496929   \n",
       "\n",
       "                  Are you social     Talkative     Forgetful     organized  \\\n",
       "loves people        4.857143e-01  4.098780e-01  1.797491e-01 -3.714286e-01   \n",
       "hard to motivate    2.651974e-01  1.508496e-17 -5.308593e-01  6.629935e-02   \n",
       "Avoid crisis        1.807016e-01 -1.851640e-01 -5.167424e-02 -9.035079e-02   \n",
       "Are you social      1.000000e+00  2.927700e-01  8.170415e-02  1.428571e-01   \n",
       "Talkative           2.927700e-01  1.000000e+00  2.344211e-01 -2.927700e-01   \n",
       "Forgetful           8.170415e-02  2.344211e-01  1.000000e+00  3.758391e-01   \n",
       "organized           1.428571e-01 -2.927700e-01  3.758391e-01  1.000000e+00   \n",
       "Quick to judge      2.651974e-01  2.717465e-01  1.516741e-01  6.629935e-02   \n",
       "like to be alone    2.653941e-17  1.632993e-01  3.794664e-17  5.307881e-17   \n",
       "Personality         5.428571e-01  1.756620e-01  2.124308e-01 -3.142857e-01   \n",
       "\n",
       "                  Quick to judge  like to be alone  Personality  \n",
       "loves people            0.066299      2.390457e-01     0.714286  \n",
       "hard to motivate        0.076923     -4.160251e-01    -0.364646  \n",
       "Avoid crisis           -0.104828      3.779645e-01     0.496929  \n",
       "Are you social          0.265197      2.653941e-17     0.542857  \n",
       "Talkative               0.271746      1.632993e-01     0.175662  \n",
       "Forgetful               0.151674      3.794664e-17     0.212431  \n",
       "organized               0.066299      5.307881e-17    -0.314286  \n",
       "Quick to judge          1.000000      1.386750e-01     0.430946  \n",
       "like to be alone        0.138675      1.000000e+00     0.358569  \n",
       "Personality             0.430946      3.585686e-01     1.000000  "
      ]
     },
     "execution_count": 92,
     "metadata": {},
     "output_type": "execute_result"
    }
   ],
   "source": [
    "data2.corr()"
   ]
  },
  {
   "cell_type": "code",
   "execution_count": null,
   "id": "08e83353",
   "metadata": {},
   "outputs": [],
   "source": []
  }
 ],
 "metadata": {
  "kernelspec": {
   "display_name": "Python 3",
   "language": "python",
   "name": "python3"
  },
  "language_info": {
   "codemirror_mode": {
    "name": "ipython",
    "version": 3
   },
   "file_extension": ".py",
   "mimetype": "text/x-python",
   "name": "python",
   "nbconvert_exporter": "python",
   "pygments_lexer": "ipython3",
   "version": "3.8.8"
  }
 },
 "nbformat": 4,
 "nbformat_minor": 5
}
